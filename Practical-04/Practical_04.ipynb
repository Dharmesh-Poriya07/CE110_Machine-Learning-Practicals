{
  "nbformat": 4,
  "nbformat_minor": 0,
  "metadata": {
    "colab": {
      "provenance": []
    },
    "kernelspec": {
      "name": "python3",
      "display_name": "Python 3"
    },
    "language_info": {
      "name": "python"
    }
  },
  "cells": [
    {
      "cell_type": "markdown",
      "source": [
        "# Practical - 04"
      ],
      "metadata": {
        "id": "J8ooGvrRzco_"
      }
    },
    {
      "cell_type": "code",
      "execution_count": 1,
      "metadata": {
        "id": "M1A7_XzYwiTS"
      },
      "outputs": [],
      "source": [
        "# Import Numpy & PyTorch\n",
        "import numpy as np\n",
        "import torch"
      ]
    },
    {
      "cell_type": "code",
      "source": [
        "# Input (temp, rainfall, humidity)\n",
        "inputs = np.array([[73, 67, 43],\n",
        "                   [91, 88, 64],\n",
        "                   [87, 134, 58],\n",
        "                   [102, 43, 37],\n",
        "                   [69, 96, 70]], dtype='float32')\n",
        "\n",
        "# Target (apples)\n",
        "targets = np.array([[56],\n",
        "                    [81],\n",
        "                    [119],\n",
        "                    [22],\n",
        "                    [103]], dtype='float32')"
      ],
      "metadata": {
        "id": "lV7uFEp7zr6-"
      },
      "execution_count": 2,
      "outputs": []
    },
    {
      "cell_type": "code",
      "source": [
        "# Convert inputs and targets to tensors\n",
        "\n",
        "inputs_t = torch.from_numpy(inputs)\n",
        "targets_t = torch.from_numpy(targets)\n",
        "\n",
        "print(inputs_t)\n",
        "print(targets_t)"
      ],
      "metadata": {
        "colab": {
          "base_uri": "https://localhost:8080/"
        },
        "id": "LFJqhdPawuSH",
        "outputId": "423199ce-6d2a-4de2-e156-92b165988a57"
      },
      "execution_count": 3,
      "outputs": [
        {
          "output_type": "stream",
          "name": "stdout",
          "text": [
            "tensor([[ 73.,  67.,  43.],\n",
            "        [ 91.,  88.,  64.],\n",
            "        [ 87., 134.,  58.],\n",
            "        [102.,  43.,  37.],\n",
            "        [ 69.,  96.,  70.]])\n",
            "tensor([[ 56.],\n",
            "        [ 81.],\n",
            "        [119.],\n",
            "        [ 22.],\n",
            "        [103.]])\n"
          ]
        }
      ]
    },
    {
      "cell_type": "markdown",
      "source": [
        "**3.2 Linear Regression Model (from scratch)**"
      ],
      "metadata": {
        "id": "STCDrNPi9-Mt"
      }
    },
    {
      "cell_type": "code",
      "source": [
        "# Weights and biases\n",
        "Weights = torch.randn(3, 1, requires_grad=True)\n",
        "biases = torch.randn(1, requires_grad=True)\n",
        "print(Weights)\n",
        "print(biases)"
      ],
      "metadata": {
        "colab": {
          "base_uri": "https://localhost:8080/"
        },
        "id": "cA3rWllh0cot",
        "outputId": "2f6d3892-4259-46de-d78f-314653b22ce0"
      },
      "execution_count": 4,
      "outputs": [
        {
          "output_type": "stream",
          "name": "stdout",
          "text": [
            "tensor([[-0.6360],\n",
            "        [ 1.2404],\n",
            "        [-0.3987]], requires_grad=True)\n",
            "tensor([-0.8833], requires_grad=True)\n"
          ]
        }
      ]
    },
    {
      "cell_type": "code",
      "source": [
        "# Define the model\n",
        "def model(x):\n",
        "    return x @ Weights + biases"
      ],
      "metadata": {
        "id": "itsLbg2x30E0"
      },
      "execution_count": 5,
      "outputs": []
    },
    {
      "cell_type": "code",
      "source": [
        "# Generate predictions\n",
        "pred = model(inputs_t)\n",
        "pred"
      ],
      "metadata": {
        "colab": {
          "base_uri": "https://localhost:8080/"
        },
        "id": "aymv-vRu7_Kt",
        "outputId": "86cd8b25-807e-46dc-e168-ec2159bae7d1"
      },
      "execution_count": 6,
      "outputs": [
        {
          "output_type": "execute_result",
          "data": {
            "text/plain": [
              "tensor([[ 18.6561],\n",
              "        [ 24.8852],\n",
              "        [ 86.8802],\n",
              "        [-27.1648],\n",
              "        [ 46.4077]], grad_fn=<AddBackward0>)"
            ]
          },
          "metadata": {},
          "execution_count": 6
        }
      ]
    },
    {
      "cell_type": "code",
      "source": [
        "# Compare with targets\n",
        "print(targets_t)"
      ],
      "metadata": {
        "colab": {
          "base_uri": "https://localhost:8080/"
        },
        "id": "k_x4lN-U8iZW",
        "outputId": "3f9021c0-fe6b-4b0d-de83-847a992db49f"
      },
      "execution_count": 7,
      "outputs": [
        {
          "output_type": "stream",
          "name": "stdout",
          "text": [
            "tensor([[ 56.],\n",
            "        [ 81.],\n",
            "        [119.],\n",
            "        [ 22.],\n",
            "        [103.]])\n"
          ]
        }
      ]
    },
    {
      "cell_type": "markdown",
      "source": [
        "**3.3 Loss Function**"
      ],
      "metadata": {
        "id": "YEKKR7Kn-AlE"
      }
    },
    {
      "cell_type": "code",
      "source": [
        "# MSE loss\n",
        "def mse(t1, t2):\n",
        "    diff = t1 - t2\n",
        "    return torch.sum(diff * diff) / diff.numel()"
      ],
      "metadata": {
        "id": "A5qmobVv8iYc"
      },
      "execution_count": 8,
      "outputs": []
    },
    {
      "cell_type": "code",
      "source": [
        "# Compute \n",
        "\n",
        "loss = mse(pred, targets_t)\n",
        "print(loss)"
      ],
      "metadata": {
        "colab": {
          "base_uri": "https://localhost:8080/"
        },
        "id": "lphXveOW-LBe",
        "outputId": "cb916a79-337f-4394-896e-bcb5bad7599b"
      },
      "execution_count": 9,
      "outputs": [
        {
          "output_type": "stream",
          "name": "stdout",
          "text": [
            "tensor(2238.9973, grad_fn=<DivBackward0>)\n"
          ]
        }
      ]
    },
    {
      "cell_type": "markdown",
      "source": [
        "## **3.4 Compute Gradients**"
      ],
      "metadata": {
        "id": "1iFWL-RS-xJM"
      }
    },
    {
      "cell_type": "code",
      "source": [
        "# Compute gradients\n",
        "loss.backward()"
      ],
      "metadata": {
        "id": "7--AJ8zh-LAU"
      },
      "execution_count": 10,
      "outputs": []
    },
    {
      "cell_type": "code",
      "source": [
        "# Gradients for weights\n",
        "print(Weights)\n",
        "print(Weights.grad)"
      ],
      "metadata": {
        "colab": {
          "base_uri": "https://localhost:8080/"
        },
        "id": "jC66vkX7BE3d",
        "outputId": "ff74ef1b-ae7e-4390-e0c5-930b7e0db46e"
      },
      "execution_count": 11,
      "outputs": [
        {
          "output_type": "stream",
          "name": "stdout",
          "text": [
            "tensor([[-0.6360],\n",
            "        [ 1.2404],\n",
            "        [-0.3987]], requires_grad=True)\n",
            "tensor([[-7818.6606],\n",
            "        [-7716.4595],\n",
            "        [-5136.2578]])\n"
          ]
        }
      ]
    },
    {
      "cell_type": "code",
      "source": [
        "# Gradients for bias\n",
        "print(biases)\n",
        "print(biases.grad)"
      ],
      "metadata": {
        "colab": {
          "base_uri": "https://localhost:8080/"
        },
        "id": "kj2tyljYBL09",
        "outputId": "3d406122-21e9-42ac-e99d-9c0379ed0ae9"
      },
      "execution_count": 12,
      "outputs": [
        {
          "output_type": "stream",
          "name": "stdout",
          "text": [
            "tensor([-0.8833], requires_grad=True)\n",
            "tensor([-92.5342])\n"
          ]
        }
      ]
    },
    {
      "cell_type": "code",
      "source": [
        "Weights.grad.zero_()\n",
        "biases.grad.zero_()\n",
        "print(Weights.grad)\n",
        "print(biases.grad)"
      ],
      "metadata": {
        "colab": {
          "base_uri": "https://localhost:8080/"
        },
        "id": "Zfhv8I5lBnc0",
        "outputId": "6687f413-7f63-4bb3-d0c2-61ce86e87e73"
      },
      "execution_count": 13,
      "outputs": [
        {
          "output_type": "stream",
          "name": "stdout",
          "text": [
            "tensor([[0.],\n",
            "        [0.],\n",
            "        [0.]])\n",
            "tensor([0.])\n"
          ]
        }
      ]
    },
    {
      "cell_type": "markdown",
      "source": [
        "**3.5 Adjust weights and biases using gradient descent**"
      ],
      "metadata": {
        "id": "M0uam0RXB3G1"
      }
    },
    {
      "cell_type": "code",
      "source": [
        "# Generate predictions\n",
        "pred = model(inputs_t)\n",
        "print(pred)"
      ],
      "metadata": {
        "colab": {
          "base_uri": "https://localhost:8080/"
        },
        "id": "KsMGas66B0ik",
        "outputId": "c2e50c2d-297d-4d2c-9d4a-b1d2d8d22d33"
      },
      "execution_count": 14,
      "outputs": [
        {
          "output_type": "stream",
          "name": "stdout",
          "text": [
            "tensor([[ 18.6561],\n",
            "        [ 24.8852],\n",
            "        [ 86.8802],\n",
            "        [-27.1648],\n",
            "        [ 46.4077]], grad_fn=<AddBackward0>)\n"
          ]
        }
      ]
    },
    {
      "cell_type": "code",
      "source": [
        "# Calculate the loss\n",
        "loss = mse(pred, targets_t)\n",
        "print(loss)"
      ],
      "metadata": {
        "colab": {
          "base_uri": "https://localhost:8080/"
        },
        "id": "dQticWPqCATc",
        "outputId": "3c4d7926-013f-418d-8835-042da56d5ac4"
      },
      "execution_count": 15,
      "outputs": [
        {
          "output_type": "stream",
          "name": "stdout",
          "text": [
            "tensor(2238.9973, grad_fn=<DivBackward0>)\n"
          ]
        }
      ]
    },
    {
      "cell_type": "code",
      "source": [
        "# Compute gradients\n",
        "print(Weights.grad)\n",
        "print(biases.grad)"
      ],
      "metadata": {
        "colab": {
          "base_uri": "https://localhost:8080/"
        },
        "id": "LoITSFJRCSTY",
        "outputId": "fee74d86-e8e3-492a-c339-0d81e81df3e7"
      },
      "execution_count": 16,
      "outputs": [
        {
          "output_type": "stream",
          "name": "stdout",
          "text": [
            "tensor([[0.],\n",
            "        [0.],\n",
            "        [0.]])\n",
            "tensor([0.])\n"
          ]
        }
      ]
    },
    {
      "cell_type": "code",
      "source": [
        "# Adjust weights & reset gradients\n",
        "with torch.no_grad():\n",
        "    Weights -= Weights.grad * 1e-5\n",
        "    biases -= biases.grad * 1e-5\n",
        "    Weights.grad.zero_()\n",
        "    biases.grad.zero_()"
      ],
      "metadata": {
        "id": "wgjX6jEBCfJz"
      },
      "execution_count": 17,
      "outputs": []
    },
    {
      "cell_type": "code",
      "source": [
        "print(Weights)\n",
        "print(biases)"
      ],
      "metadata": {
        "colab": {
          "base_uri": "https://localhost:8080/"
        },
        "id": "AJXDusUbC-IM",
        "outputId": "63dca1c0-da28-41b3-b949-0b93f8eefabe"
      },
      "execution_count": 18,
      "outputs": [
        {
          "output_type": "stream",
          "name": "stdout",
          "text": [
            "tensor([[-0.6360],\n",
            "        [ 1.2404],\n",
            "        [-0.3987]], requires_grad=True)\n",
            "tensor([-0.8833], requires_grad=True)\n"
          ]
        }
      ]
    },
    {
      "cell_type": "code",
      "source": [
        "# Calculate loss\n",
        "pred = model(inputs_t)\n",
        "loss = mse(pred, targets_t)\n",
        "print(loss)"
      ],
      "metadata": {
        "colab": {
          "base_uri": "https://localhost:8080/"
        },
        "id": "Sd_tUkVLDDZd",
        "outputId": "6da9c3ac-7ee1-4571-8c5d-7d6687780fa1"
      },
      "execution_count": 19,
      "outputs": [
        {
          "output_type": "stream",
          "name": "stdout",
          "text": [
            "tensor(2238.9973, grad_fn=<DivBackward0>)\n"
          ]
        }
      ]
    },
    {
      "cell_type": "markdown",
      "source": [
        "## **3.6 Train for multiple epochs**"
      ],
      "metadata": {
        "id": "XTrVzsdpDkoc"
      }
    },
    {
      "cell_type": "code",
      "source": [
        "# Train for 100 epochs\n",
        "for i in range(160):\n",
        "    pred = model(inputs_t)\n",
        "    loss = mse(pred, targets_t)\n",
        "    loss.backward()\n",
        "    with torch.no_grad():\n",
        "        Weights -= Weights.grad * 1e-5\n",
        "        biases -= biases.grad * 1e-5\n",
        "        Weights.grad.zero_()\n",
        "        biases.grad.zero_()"
      ],
      "metadata": {
        "id": "5shlzXwaDO5D"
      },
      "execution_count": 20,
      "outputs": []
    },
    {
      "cell_type": "code",
      "source": [
        "# Calculate loss\n",
        "pred = model(inputs_t)\n",
        "loss = mse(pred, targets_t)\n",
        "print(loss)"
      ],
      "metadata": {
        "colab": {
          "base_uri": "https://localhost:8080/"
        },
        "id": "SV9Bd429D2EL",
        "outputId": "1e27f861-4e5c-4e3a-dc73-87917035e91b"
      },
      "execution_count": 21,
      "outputs": [
        {
          "output_type": "stream",
          "name": "stdout",
          "text": [
            "tensor(62.1049, grad_fn=<DivBackward0>)\n"
          ]
        }
      ]
    },
    {
      "cell_type": "code",
      "source": [
        "# Predictions\n",
        "pred"
      ],
      "metadata": {
        "colab": {
          "base_uri": "https://localhost:8080/"
        },
        "id": "dDHVVWZAEDqk",
        "outputId": "62e15d8d-26ae-4fd7-8e20-a6f3fde2b84f"
      },
      "execution_count": 22,
      "outputs": [
        {
          "output_type": "execute_result",
          "data": {
            "text/plain": [
              "tensor([[ 57.3050],\n",
              "        [ 76.5560],\n",
              "        [131.3175],\n",
              "        [ 22.1695],\n",
              "        [ 91.2815]], grad_fn=<AddBackward0>)"
            ]
          },
          "metadata": {},
          "execution_count": 22
        }
      ]
    },
    {
      "cell_type": "code",
      "source": [
        "# Targets\n",
        "targets_t"
      ],
      "metadata": {
        "colab": {
          "base_uri": "https://localhost:8080/"
        },
        "id": "zntxCPCDEE57",
        "outputId": "b2704bef-338e-4b61-b8c4-4f3a16e32cd2"
      },
      "execution_count": 23,
      "outputs": [
        {
          "output_type": "execute_result",
          "data": {
            "text/plain": [
              "tensor([[ 56.],\n",
              "        [ 81.],\n",
              "        [119.],\n",
              "        [ 22.],\n",
              "        [103.]])"
            ]
          },
          "metadata": {},
          "execution_count": 23
        }
      ]
    },
    {
      "cell_type": "markdown",
      "source": [
        "## **1.1 Linear Regression Model using PyTorch built-ins**"
      ],
      "metadata": {
        "id": "axZy17It6Vo8"
      }
    },
    {
      "cell_type": "code",
      "source": [
        "# Imports\n",
        "import torch.nn as nn\n",
        "import torch\n",
        "import numpy as np"
      ],
      "metadata": {
        "id": "cpyEDa5k6XTl"
      },
      "execution_count": 24,
      "outputs": []
    },
    {
      "cell_type": "code",
      "source": [
        "# Input (temp, rainfall, humidity)\n",
        "\n",
        "inputs = np.array([[73, 67, 43], [91, 88, 64], [87, 134, 58], [102, 43, 37],[69, 96, 70],\n",
        "                   [73, 67, 43], [91, 88, 64], [87, 134, 58], [102, 43, 37], [69,96, 70],\n",
        "                   [73, 67, 43], [91, 88, 64], [87, 134, 58], [102, 43, 37], [69, 96,70]], dtype='float32')\n",
        "\n",
        "# Targets (apples, oranges)\n",
        "targets = np.array([[56, 70], [81, 101], [119, 133], [22, 37], [103, 119],\n",
        "                    [56, 70], [81, 101], [119, 133], [22, 37], [103, 119],\n",
        "                    [56, 70], [81, 101], [119, 133], [22, 37], [103, 119]],dtype='float32')\n",
        "\n",
        "inputs = torch.from_numpy(inputs)\n",
        "targets = torch.from_numpy(targets)"
      ],
      "metadata": {
        "id": "sr7T8pZn6cGC"
      },
      "execution_count": 25,
      "outputs": []
    },
    {
      "cell_type": "code",
      "source": [
        "inputs"
      ],
      "metadata": {
        "colab": {
          "base_uri": "https://localhost:8080/"
        },
        "id": "QGUWwOQa7DGS",
        "outputId": "24c019ec-58fd-426a-e7e2-1c7512341ca7"
      },
      "execution_count": 26,
      "outputs": [
        {
          "output_type": "execute_result",
          "data": {
            "text/plain": [
              "tensor([[ 73.,  67.,  43.],\n",
              "        [ 91.,  88.,  64.],\n",
              "        [ 87., 134.,  58.],\n",
              "        [102.,  43.,  37.],\n",
              "        [ 69.,  96.,  70.],\n",
              "        [ 73.,  67.,  43.],\n",
              "        [ 91.,  88.,  64.],\n",
              "        [ 87., 134.,  58.],\n",
              "        [102.,  43.,  37.],\n",
              "        [ 69.,  96.,  70.],\n",
              "        [ 73.,  67.,  43.],\n",
              "        [ 91.,  88.,  64.],\n",
              "        [ 87., 134.,  58.],\n",
              "        [102.,  43.,  37.],\n",
              "        [ 69.,  96.,  70.]])"
            ]
          },
          "metadata": {},
          "execution_count": 26
        }
      ]
    },
    {
      "cell_type": "code",
      "source": [
        "targets"
      ],
      "metadata": {
        "colab": {
          "base_uri": "https://localhost:8080/"
        },
        "id": "Ac-gR-aw7O6s",
        "outputId": "29c62a40-00f1-4547-ef78-733a50a7de69"
      },
      "execution_count": 27,
      "outputs": [
        {
          "output_type": "execute_result",
          "data": {
            "text/plain": [
              "tensor([[ 56.,  70.],\n",
              "        [ 81., 101.],\n",
              "        [119., 133.],\n",
              "        [ 22.,  37.],\n",
              "        [103., 119.],\n",
              "        [ 56.,  70.],\n",
              "        [ 81., 101.],\n",
              "        [119., 133.],\n",
              "        [ 22.,  37.],\n",
              "        [103., 119.],\n",
              "        [ 56.,  70.],\n",
              "        [ 81., 101.],\n",
              "        [119., 133.],\n",
              "        [ 22.,  37.],\n",
              "        [103., 119.]])"
            ]
          },
          "metadata": {},
          "execution_count": 27
        }
      ]
    },
    {
      "cell_type": "code",
      "source": [
        "# Import tensor dataset & data loader\n",
        "from torch.utils.data import TensorDataset, DataLoader"
      ],
      "metadata": {
        "id": "tLR-rRNq7Q-C"
      },
      "execution_count": 28,
      "outputs": []
    },
    {
      "cell_type": "code",
      "source": [
        "# Define dataset\n",
        "train_ds = TensorDataset(inputs, targets)\n",
        "train_ds[:]"
      ],
      "metadata": {
        "colab": {
          "base_uri": "https://localhost:8080/"
        },
        "id": "Ne4ROjzX7Udw",
        "outputId": "0338a213-1510-43d0-8987-5e7305a8f57c"
      },
      "execution_count": 29,
      "outputs": [
        {
          "output_type": "execute_result",
          "data": {
            "text/plain": [
              "(tensor([[ 73.,  67.,  43.],\n",
              "         [ 91.,  88.,  64.],\n",
              "         [ 87., 134.,  58.],\n",
              "         [102.,  43.,  37.],\n",
              "         [ 69.,  96.,  70.],\n",
              "         [ 73.,  67.,  43.],\n",
              "         [ 91.,  88.,  64.],\n",
              "         [ 87., 134.,  58.],\n",
              "         [102.,  43.,  37.],\n",
              "         [ 69.,  96.,  70.],\n",
              "         [ 73.,  67.,  43.],\n",
              "         [ 91.,  88.,  64.],\n",
              "         [ 87., 134.,  58.],\n",
              "         [102.,  43.,  37.],\n",
              "         [ 69.,  96.,  70.]]), tensor([[ 56.,  70.],\n",
              "         [ 81., 101.],\n",
              "         [119., 133.],\n",
              "         [ 22.,  37.],\n",
              "         [103., 119.],\n",
              "         [ 56.,  70.],\n",
              "         [ 81., 101.],\n",
              "         [119., 133.],\n",
              "         [ 22.,  37.],\n",
              "         [103., 119.],\n",
              "         [ 56.,  70.],\n",
              "         [ 81., 101.],\n",
              "         [119., 133.],\n",
              "         [ 22.,  37.],\n",
              "         [103., 119.]]))"
            ]
          },
          "metadata": {},
          "execution_count": 29
        }
      ]
    },
    {
      "cell_type": "code",
      "source": [
        "# Define data loader\n",
        "\n",
        "batch_size = 5\n",
        "train_dl = DataLoader(train_ds, batch_size, shuffle = True)\n",
        "\n",
        "for batch, (xb, yb) in enumerate(train_dl):\n",
        "    print(f'batch: {batch+1}')\n",
        "    print(xb)\n",
        "    print(yb)\n",
        "    print('='*40)"
      ],
      "metadata": {
        "colab": {
          "base_uri": "https://localhost:8080/"
        },
        "id": "uFm5BD6i7lB4",
        "outputId": "2ed76607-dbd0-4642-da2b-bcf5ddf653b1"
      },
      "execution_count": 30,
      "outputs": [
        {
          "output_type": "stream",
          "name": "stdout",
          "text": [
            "batch: 1\n",
            "tensor([[ 87., 134.,  58.],\n",
            "        [ 91.,  88.,  64.],\n",
            "        [ 87., 134.,  58.],\n",
            "        [ 91.,  88.,  64.],\n",
            "        [ 73.,  67.,  43.]])\n",
            "tensor([[119., 133.],\n",
            "        [ 81., 101.],\n",
            "        [119., 133.],\n",
            "        [ 81., 101.],\n",
            "        [ 56.,  70.]])\n",
            "========================================\n",
            "batch: 2\n",
            "tensor([[ 87., 134.,  58.],\n",
            "        [ 91.,  88.,  64.],\n",
            "        [102.,  43.,  37.],\n",
            "        [ 69.,  96.,  70.],\n",
            "        [ 69.,  96.,  70.]])\n",
            "tensor([[119., 133.],\n",
            "        [ 81., 101.],\n",
            "        [ 22.,  37.],\n",
            "        [103., 119.],\n",
            "        [103., 119.]])\n",
            "========================================\n",
            "batch: 3\n",
            "tensor([[ 73.,  67.,  43.],\n",
            "        [ 73.,  67.,  43.],\n",
            "        [102.,  43.,  37.],\n",
            "        [ 69.,  96.,  70.],\n",
            "        [102.,  43.,  37.]])\n",
            "tensor([[ 56.,  70.],\n",
            "        [ 56.,  70.],\n",
            "        [ 22.,  37.],\n",
            "        [103., 119.],\n",
            "        [ 22.,  37.]])\n",
            "========================================\n"
          ]
        }
      ]
    },
    {
      "cell_type": "code",
      "source": [
        "# Define model\n",
        "model = nn.Linear(3,2)\n",
        "print(model.weight)\n",
        "print(model.bias)"
      ],
      "metadata": {
        "colab": {
          "base_uri": "https://localhost:8080/"
        },
        "id": "6LagmDSK788f",
        "outputId": "925fbfe0-0454-4448-8633-5cd1a8d8981e"
      },
      "execution_count": 31,
      "outputs": [
        {
          "output_type": "stream",
          "name": "stdout",
          "text": [
            "Parameter containing:\n",
            "tensor([[-0.1412,  0.3535,  0.3121],\n",
            "        [-0.0443, -0.1489, -0.2990]], requires_grad=True)\n",
            "Parameter containing:\n",
            "tensor([0.3852, 0.4388], requires_grad=True)\n"
          ]
        }
      ]
    },
    {
      "cell_type": "code",
      "source": [
        "#Obtain Parameters\n",
        "list(model.parameters())"
      ],
      "metadata": {
        "colab": {
          "base_uri": "https://localhost:8080/"
        },
        "id": "45OPk35r9FhA",
        "outputId": "645fb36e-9709-48b9-ff5a-674cff32f6b1"
      },
      "execution_count": 32,
      "outputs": [
        {
          "output_type": "execute_result",
          "data": {
            "text/plain": [
              "[Parameter containing:\n",
              " tensor([[-0.1412,  0.3535,  0.3121],\n",
              "         [-0.0443, -0.1489, -0.2990]], requires_grad=True),\n",
              " Parameter containing:\n",
              " tensor([0.3852, 0.4388], requires_grad=True)]"
            ]
          },
          "metadata": {},
          "execution_count": 32
        }
      ]
    },
    {
      "cell_type": "code",
      "source": [
        "# prediction\n",
        "\n",
        "preds = model(inputs)\n",
        "preds"
      ],
      "metadata": {
        "colab": {
          "base_uri": "https://localhost:8080/"
        },
        "id": "zCvqujG89bDs",
        "outputId": "e2176d38-ea4f-480f-a374-723397b603d9"
      },
      "execution_count": 33,
      "outputs": [
        {
          "output_type": "execute_result",
          "data": {
            "text/plain": [
              "tensor([[ 27.1845, -25.6304],\n",
              "        [ 38.6210, -35.8340],\n",
              "        [ 53.5762, -40.7120],\n",
              "        [ 12.7322, -21.5488],\n",
              "        [ 46.4282, -37.8437],\n",
              "        [ 27.1845, -25.6304],\n",
              "        [ 38.6210, -35.8340],\n",
              "        [ 53.5762, -40.7120],\n",
              "        [ 12.7322, -21.5488],\n",
              "        [ 46.4282, -37.8437],\n",
              "        [ 27.1845, -25.6304],\n",
              "        [ 38.6210, -35.8340],\n",
              "        [ 53.5762, -40.7120],\n",
              "        [ 12.7322, -21.5488],\n",
              "        [ 46.4282, -37.8437]], grad_fn=<AddmmBackward0>)"
            ]
          },
          "metadata": {},
          "execution_count": 33
        }
      ]
    },
    {
      "cell_type": "code",
      "source": [
        "# Loss \n",
        "\n",
        "# Import nn.functional\n",
        "import torch.nn.functional as F\n",
        "\n",
        "# Define loss function\n",
        "loss_fn = F.mse_loss\n",
        "\n",
        "# Calculate loss\n",
        "loss = loss_fn(model(inputs), targets)\n",
        "print(loss)"
      ],
      "metadata": {
        "colab": {
          "base_uri": "https://localhost:8080/"
        },
        "id": "j4lDRlJE9nG9",
        "outputId": "18b7a6ac-7013-430b-921f-162c424366fa"
      },
      "execution_count": 34,
      "outputs": [
        {
          "output_type": "stream",
          "name": "stdout",
          "text": [
            "tensor(9626.5312, grad_fn=<MseLossBackward0>)\n"
          ]
        }
      ]
    },
    {
      "cell_type": "code",
      "source": [
        "# Optimizer\n",
        "opt = torch.optim.SGD(model.parameters(), lr=1e-5)"
      ],
      "metadata": {
        "id": "mpQP6AjO9_Eg"
      },
      "execution_count": 35,
      "outputs": []
    },
    {
      "cell_type": "code",
      "source": [
        "# Train the model\n",
        "\n",
        "def fit(num_epochs, model, loss_fn, opt, train_dl):\n",
        "    for epoch in range(num_epochs):\n",
        "        for xb, yb in train_dl:\n",
        "            pred = model(xb)\n",
        "            loss = loss_fn(pred, yb)\n",
        "            loss.backward()\n",
        "            opt.step()\n",
        "            opt.zero_grad()\n",
        "        if (epoch+1) % 10 == 0:\n",
        "            print(f'Epoch [{epoch+1}/{num_epochs}], Loss: {round(loss.item(), 3)} ,{xb} , {yb}')"
      ],
      "metadata": {
        "id": "Ogwqm1XZ-CfG"
      },
      "execution_count": 36,
      "outputs": []
    },
    {
      "cell_type": "code",
      "source": [
        "# Fit the model\n",
        "fit(250, model, loss_fn, opt, train_dl)"
      ],
      "metadata": {
        "colab": {
          "base_uri": "https://localhost:8080/"
        },
        "id": "gbiBSNHQ-MyZ",
        "outputId": "d1ffd7e7-2ba4-4a8a-94ec-db84c50584e0"
      },
      "execution_count": 37,
      "outputs": [
        {
          "output_type": "stream",
          "name": "stdout",
          "text": [
            "Epoch [10/250], Loss: 315.155 ,tensor([[ 87., 134.,  58.],\n",
            "        [ 87., 134.,  58.],\n",
            "        [102.,  43.,  37.],\n",
            "        [ 87., 134.,  58.],\n",
            "        [ 69.,  96.,  70.]]) , tensor([[119., 133.],\n",
            "        [119., 133.],\n",
            "        [ 22.,  37.],\n",
            "        [119., 133.],\n",
            "        [103., 119.]])\n",
            "Epoch [20/250], Loss: 76.819 ,tensor([[ 91.,  88.,  64.],\n",
            "        [ 91.,  88.,  64.],\n",
            "        [ 91.,  88.,  64.],\n",
            "        [ 87., 134.,  58.],\n",
            "        [ 69.,  96.,  70.]]) , tensor([[ 81., 101.],\n",
            "        [ 81., 101.],\n",
            "        [ 81., 101.],\n",
            "        [119., 133.],\n",
            "        [103., 119.]])\n",
            "Epoch [30/250], Loss: 231.221 ,tensor([[102.,  43.,  37.],\n",
            "        [ 69.,  96.,  70.],\n",
            "        [ 91.,  88.,  64.],\n",
            "        [ 91.,  88.,  64.],\n",
            "        [102.,  43.,  37.]]) , tensor([[ 22.,  37.],\n",
            "        [103., 119.],\n",
            "        [ 81., 101.],\n",
            "        [ 81., 101.],\n",
            "        [ 22.,  37.]])\n",
            "Epoch [40/250], Loss: 8.046 ,tensor([[ 91.,  88.,  64.],\n",
            "        [ 91.,  88.,  64.],\n",
            "        [ 91.,  88.,  64.],\n",
            "        [ 87., 134.,  58.],\n",
            "        [ 73.,  67.,  43.]]) , tensor([[ 81., 101.],\n",
            "        [ 81., 101.],\n",
            "        [ 81., 101.],\n",
            "        [119., 133.],\n",
            "        [ 56.,  70.]])\n",
            "Epoch [50/250], Loss: 77.792 ,tensor([[102.,  43.,  37.],\n",
            "        [ 73.,  67.,  43.],\n",
            "        [ 91.,  88.,  64.],\n",
            "        [ 69.,  96.,  70.],\n",
            "        [ 87., 134.,  58.]]) , tensor([[ 22.,  37.],\n",
            "        [ 56.,  70.],\n",
            "        [ 81., 101.],\n",
            "        [103., 119.],\n",
            "        [119., 133.]])\n",
            "Epoch [60/250], Loss: 114.325 ,tensor([[ 69.,  96.,  70.],\n",
            "        [ 91.,  88.,  64.],\n",
            "        [ 69.,  96.,  70.],\n",
            "        [102.,  43.,  37.],\n",
            "        [102.,  43.,  37.]]) , tensor([[103., 119.],\n",
            "        [ 81., 101.],\n",
            "        [103., 119.],\n",
            "        [ 22.,  37.],\n",
            "        [ 22.,  37.]])\n",
            "Epoch [70/250], Loss: 26.307 ,tensor([[ 73.,  67.,  43.],\n",
            "        [ 91.,  88.,  64.],\n",
            "        [ 87., 134.,  58.],\n",
            "        [ 69.,  96.,  70.],\n",
            "        [ 73.,  67.,  43.]]) , tensor([[ 56.,  70.],\n",
            "        [ 81., 101.],\n",
            "        [119., 133.],\n",
            "        [103., 119.],\n",
            "        [ 56.,  70.]])\n",
            "Epoch [80/250], Loss: 60.366 ,tensor([[ 87., 134.,  58.],\n",
            "        [102.,  43.,  37.],\n",
            "        [102.,  43.,  37.],\n",
            "        [102.,  43.,  37.],\n",
            "        [ 73.,  67.,  43.]]) , tensor([[119., 133.],\n",
            "        [ 22.,  37.],\n",
            "        [ 22.,  37.],\n",
            "        [ 22.,  37.],\n",
            "        [ 56.,  70.]])\n",
            "Epoch [90/250], Loss: 31.674 ,tensor([[ 69.,  96.,  70.],\n",
            "        [ 73.,  67.,  43.],\n",
            "        [ 87., 134.,  58.],\n",
            "        [ 91.,  88.,  64.],\n",
            "        [102.,  43.,  37.]]) , tensor([[103., 119.],\n",
            "        [ 56.,  70.],\n",
            "        [119., 133.],\n",
            "        [ 81., 101.],\n",
            "        [ 22.,  37.]])\n",
            "Epoch [100/250], Loss: 45.607 ,tensor([[102.,  43.,  37.],\n",
            "        [ 69.,  96.,  70.],\n",
            "        [102.,  43.,  37.],\n",
            "        [ 69.,  96.,  70.],\n",
            "        [ 73.,  67.,  43.]]) , tensor([[ 22.,  37.],\n",
            "        [103., 119.],\n",
            "        [ 22.,  37.],\n",
            "        [103., 119.],\n",
            "        [ 56.,  70.]])\n",
            "Epoch [110/250], Loss: 17.287 ,tensor([[ 91.,  88.,  64.],\n",
            "        [ 73.,  67.,  43.],\n",
            "        [102.,  43.,  37.],\n",
            "        [ 87., 134.,  58.],\n",
            "        [ 87., 134.,  58.]]) , tensor([[ 81., 101.],\n",
            "        [ 56.,  70.],\n",
            "        [ 22.,  37.],\n",
            "        [119., 133.],\n",
            "        [119., 133.]])\n",
            "Epoch [120/250], Loss: 30.247 ,tensor([[ 69.,  96.,  70.],\n",
            "        [ 73.,  67.,  43.],\n",
            "        [ 91.,  88.,  64.],\n",
            "        [ 69.,  96.,  70.],\n",
            "        [102.,  43.,  37.]]) , tensor([[103., 119.],\n",
            "        [ 56.,  70.],\n",
            "        [ 81., 101.],\n",
            "        [103., 119.],\n",
            "        [ 22.,  37.]])\n",
            "Epoch [130/250], Loss: 27.588 ,tensor([[73., 67., 43.],\n",
            "        [91., 88., 64.],\n",
            "        [91., 88., 64.],\n",
            "        [69., 96., 70.],\n",
            "        [69., 96., 70.]]) , tensor([[ 56.,  70.],\n",
            "        [ 81., 101.],\n",
            "        [ 81., 101.],\n",
            "        [103., 119.],\n",
            "        [103., 119.]])\n",
            "Epoch [140/250], Loss: 14.54 ,tensor([[102.,  43.,  37.],\n",
            "        [102.,  43.,  37.],\n",
            "        [ 73.,  67.,  43.],\n",
            "        [102.,  43.,  37.],\n",
            "        [ 87., 134.,  58.]]) , tensor([[ 22.,  37.],\n",
            "        [ 22.,  37.],\n",
            "        [ 56.,  70.],\n",
            "        [ 22.,  37.],\n",
            "        [119., 133.]])\n",
            "Epoch [150/250], Loss: 15.851 ,tensor([[ 87., 134.,  58.],\n",
            "        [ 73.,  67.,  43.],\n",
            "        [102.,  43.,  37.],\n",
            "        [ 69.,  96.,  70.],\n",
            "        [ 91.,  88.,  64.]]) , tensor([[119., 133.],\n",
            "        [ 56.,  70.],\n",
            "        [ 22.,  37.],\n",
            "        [103., 119.],\n",
            "        [ 81., 101.]])\n",
            "Epoch [160/250], Loss: 9.892 ,tensor([[102.,  43.,  37.],\n",
            "        [102.,  43.,  37.],\n",
            "        [ 73.,  67.,  43.],\n",
            "        [ 87., 134.,  58.],\n",
            "        [ 91.,  88.,  64.]]) , tensor([[ 22.,  37.],\n",
            "        [ 22.,  37.],\n",
            "        [ 56.,  70.],\n",
            "        [119., 133.],\n",
            "        [ 81., 101.]])\n",
            "Epoch [170/250], Loss: 13.917 ,tensor([[ 69.,  96.,  70.],\n",
            "        [ 91.,  88.,  64.],\n",
            "        [ 87., 134.,  58.],\n",
            "        [ 73.,  67.,  43.],\n",
            "        [ 91.,  88.,  64.]]) , tensor([[103., 119.],\n",
            "        [ 81., 101.],\n",
            "        [119., 133.],\n",
            "        [ 56.,  70.],\n",
            "        [ 81., 101.]])\n",
            "Epoch [180/250], Loss: 12.86 ,tensor([[102.,  43.,  37.],\n",
            "        [ 73.,  67.,  43.],\n",
            "        [ 69.,  96.,  70.],\n",
            "        [ 87., 134.,  58.],\n",
            "        [ 91.,  88.,  64.]]) , tensor([[ 22.,  37.],\n",
            "        [ 56.,  70.],\n",
            "        [103., 119.],\n",
            "        [119., 133.],\n",
            "        [ 81., 101.]])\n",
            "Epoch [190/250], Loss: 8.224 ,tensor([[ 91.,  88.,  64.],\n",
            "        [ 87., 134.,  58.],\n",
            "        [ 91.,  88.,  64.],\n",
            "        [102.,  43.,  37.],\n",
            "        [102.,  43.,  37.]]) , tensor([[ 81., 101.],\n",
            "        [119., 133.],\n",
            "        [ 81., 101.],\n",
            "        [ 22.,  37.],\n",
            "        [ 22.,  37.]])\n",
            "Epoch [200/250], Loss: 15.936 ,tensor([[102.,  43.,  37.],\n",
            "        [ 87., 134.,  58.],\n",
            "        [ 73.,  67.,  43.],\n",
            "        [ 69.,  96.,  70.],\n",
            "        [ 69.,  96.,  70.]]) , tensor([[ 22.,  37.],\n",
            "        [119., 133.],\n",
            "        [ 56.,  70.],\n",
            "        [103., 119.],\n",
            "        [103., 119.]])\n",
            "Epoch [210/250], Loss: 13.906 ,tensor([[ 69.,  96.,  70.],\n",
            "        [ 73.,  67.,  43.],\n",
            "        [ 69.,  96.,  70.],\n",
            "        [102.,  43.,  37.],\n",
            "        [ 91.,  88.,  64.]]) , tensor([[103., 119.],\n",
            "        [ 56.,  70.],\n",
            "        [103., 119.],\n",
            "        [ 22.,  37.],\n",
            "        [ 81., 101.]])\n",
            "Epoch [220/250], Loss: 10.148 ,tensor([[102.,  43.,  37.],\n",
            "        [ 73.,  67.,  43.],\n",
            "        [ 69.,  96.,  70.],\n",
            "        [ 91.,  88.,  64.],\n",
            "        [ 87., 134.,  58.]]) , tensor([[ 22.,  37.],\n",
            "        [ 56.,  70.],\n",
            "        [103., 119.],\n",
            "        [ 81., 101.],\n",
            "        [119., 133.]])\n",
            "Epoch [230/250], Loss: 13.195 ,tensor([[ 69.,  96.,  70.],\n",
            "        [ 69.,  96.,  70.],\n",
            "        [102.,  43.,  37.],\n",
            "        [ 91.,  88.,  64.],\n",
            "        [ 91.,  88.,  64.]]) , tensor([[103., 119.],\n",
            "        [103., 119.],\n",
            "        [ 22.,  37.],\n",
            "        [ 81., 101.],\n",
            "        [ 81., 101.]])\n",
            "Epoch [240/250], Loss: 7.762 ,tensor([[91., 88., 64.],\n",
            "        [73., 67., 43.],\n",
            "        [69., 96., 70.],\n",
            "        [91., 88., 64.],\n",
            "        [73., 67., 43.]]) , tensor([[ 81., 101.],\n",
            "        [ 56.,  70.],\n",
            "        [103., 119.],\n",
            "        [ 81., 101.],\n",
            "        [ 56.,  70.]])\n",
            "Epoch [250/250], Loss: 5.925 ,tensor([[ 91.,  88.,  64.],\n",
            "        [ 73.,  67.,  43.],\n",
            "        [ 69.,  96.,  70.],\n",
            "        [ 73.,  67.,  43.],\n",
            "        [102.,  43.,  37.]]) , tensor([[ 81., 101.],\n",
            "        [ 56.,  70.],\n",
            "        [103., 119.],\n",
            "        [ 56.,  70.],\n",
            "        [ 22.,  37.]])\n"
          ]
        }
      ]
    },
    {
      "cell_type": "code",
      "source": [
        "preds = model(inputs)\n",
        "preds"
      ],
      "metadata": {
        "colab": {
          "base_uri": "https://localhost:8080/"
        },
        "id": "ybtHJV8s-XIv",
        "outputId": "6c935460-6b3e-4516-d580-2407bd8aeebe"
      },
      "execution_count": 38,
      "outputs": [
        {
          "output_type": "execute_result",
          "data": {
            "text/plain": [
              "tensor([[ 57.3695,  70.8600],\n",
              "        [ 81.4815,  98.0570],\n",
              "        [120.1212, 138.5821],\n",
              "        [ 21.7248,  39.0384],\n",
              "        [100.3511, 113.4575],\n",
              "        [ 57.3695,  70.8600],\n",
              "        [ 81.4815,  98.0570],\n",
              "        [120.1212, 138.5821],\n",
              "        [ 21.7248,  39.0384],\n",
              "        [100.3511, 113.4575],\n",
              "        [ 57.3695,  70.8600],\n",
              "        [ 81.4815,  98.0570],\n",
              "        [120.1212, 138.5821],\n",
              "        [ 21.7248,  39.0384],\n",
              "        [100.3511, 113.4575]], grad_fn=<AddmmBackward0>)"
            ]
          },
          "metadata": {},
          "execution_count": 38
        }
      ]
    },
    {
      "cell_type": "code",
      "source": [
        "targets"
      ],
      "metadata": {
        "colab": {
          "base_uri": "https://localhost:8080/"
        },
        "id": "RTVOwfWP-afM",
        "outputId": "eb25e51f-250f-456e-8651-4a234b445a7a"
      },
      "execution_count": 39,
      "outputs": [
        {
          "output_type": "execute_result",
          "data": {
            "text/plain": [
              "tensor([[ 56.,  70.],\n",
              "        [ 81., 101.],\n",
              "        [119., 133.],\n",
              "        [ 22.,  37.],\n",
              "        [103., 119.],\n",
              "        [ 56.,  70.],\n",
              "        [ 81., 101.],\n",
              "        [119., 133.],\n",
              "        [ 22.,  37.],\n",
              "        [103., 119.],\n",
              "        [ 56.,  70.],\n",
              "        [ 81., 101.],\n",
              "        [119., 133.],\n",
              "        [ 22.,  37.],\n",
              "        [103., 119.]])"
            ]
          },
          "metadata": {},
          "execution_count": 39
        }
      ]
    },
    {
      "cell_type": "code",
      "source": [
        "from sklearn.metrics import mean_squared_error\n",
        "print(mean_squared_error(targets.detach().numpy(),preds.detach().numpy()))"
      ],
      "metadata": {
        "colab": {
          "base_uri": "https://localhost:8080/"
        },
        "id": "8vezSVp2szER",
        "outputId": "18f9a80f-2c11-473d-e0ff-f41e19823198"
      },
      "execution_count": 40,
      "outputs": [
        {
          "output_type": "stream",
          "name": "stdout",
          "text": [
            "8.589289\n"
          ]
        }
      ]
    },
    {
      "cell_type": "markdown",
      "source": [
        "\n",
        "\n",
        "---\n",
        "\n"
      ],
      "metadata": {
        "id": "zeqJQ4J90dIl"
      }
    },
    {
      "cell_type": "markdown",
      "source": [
        "## 4 Exercise 1.1\n",
        "1. Estimate the value of model parameters(weights and bias) and MSE Loss after training for\n",
        "1000 epochs.\n",
        "2. Take the learning rate value as 0.1 and train the model. Write in brief the impact of this\n",
        "learning rate on the model.\n",
        "3. Take the learning rate value as 0.0000001 and train the model. Write in brief the impact of\n",
        "this learning rate on the model.\n",
        "4. Plot a graph of the number of epochs vs the loss value of the model.\n",
        "5. Use the model to predict crop yield for apples if temperature is 70, Rain is 34 and Humidity\n",
        "is 45.\n",
        "6. Write in brief about the approach used in the model generation process."
      ],
      "metadata": {
        "id": "P9LnlOvNk6to"
      }
    },
    {
      "cell_type": "code",
      "source": [
        "# 1\n",
        "fit(1000, model, loss_fn, opt, train_dl)"
      ],
      "metadata": {
        "colab": {
          "base_uri": "https://localhost:8080/"
        },
        "id": "hNxDGoC8k5bv",
        "outputId": "448fcf91-20ce-4caa-a1c9-eae5de60115a"
      },
      "execution_count": 41,
      "outputs": [
        {
          "output_type": "stream",
          "name": "stdout",
          "text": [
            "Epoch [10/1000], Loss: 5.757 ,tensor([[ 91.,  88.,  64.],\n",
            "        [ 73.,  67.,  43.],\n",
            "        [ 69.,  96.,  70.],\n",
            "        [102.,  43.,  37.],\n",
            "        [102.,  43.,  37.]]) , tensor([[ 81., 101.],\n",
            "        [ 56.,  70.],\n",
            "        [103., 119.],\n",
            "        [ 22.,  37.],\n",
            "        [ 22.,  37.]])\n",
            "Epoch [20/1000], Loss: 8.412 ,tensor([[ 87., 134.,  58.],\n",
            "        [102.,  43.,  37.],\n",
            "        [ 91.,  88.,  64.],\n",
            "        [ 91.,  88.,  64.],\n",
            "        [ 69.,  96.,  70.]]) , tensor([[119., 133.],\n",
            "        [ 22.,  37.],\n",
            "        [ 81., 101.],\n",
            "        [ 81., 101.],\n",
            "        [103., 119.]])\n",
            "Epoch [30/1000], Loss: 7.273 ,tensor([[ 73.,  67.,  43.],\n",
            "        [ 87., 134.,  58.],\n",
            "        [ 73.,  67.,  43.],\n",
            "        [ 91.,  88.,  64.],\n",
            "        [ 69.,  96.,  70.]]) , tensor([[ 56.,  70.],\n",
            "        [119., 133.],\n",
            "        [ 56.,  70.],\n",
            "        [ 81., 101.],\n",
            "        [103., 119.]])\n",
            "Epoch [40/1000], Loss: 5.79 ,tensor([[ 91.,  88.,  64.],\n",
            "        [102.,  43.,  37.],\n",
            "        [ 69.,  96.,  70.],\n",
            "        [102.,  43.,  37.],\n",
            "        [ 91.,  88.,  64.]]) , tensor([[ 81., 101.],\n",
            "        [ 22.,  37.],\n",
            "        [103., 119.],\n",
            "        [ 22.,  37.],\n",
            "        [ 81., 101.]])\n",
            "Epoch [50/1000], Loss: 11.094 ,tensor([[ 87., 134.,  58.],\n",
            "        [ 69.,  96.,  70.],\n",
            "        [102.,  43.,  37.],\n",
            "        [ 87., 134.,  58.],\n",
            "        [ 69.,  96.,  70.]]) , tensor([[119., 133.],\n",
            "        [103., 119.],\n",
            "        [ 22.,  37.],\n",
            "        [119., 133.],\n",
            "        [103., 119.]])\n",
            "Epoch [60/1000], Loss: 6.708 ,tensor([[ 73.,  67.,  43.],\n",
            "        [ 69.,  96.,  70.],\n",
            "        [ 69.,  96.,  70.],\n",
            "        [102.,  43.,  37.],\n",
            "        [ 73.,  67.,  43.]]) , tensor([[ 56.,  70.],\n",
            "        [103., 119.],\n",
            "        [103., 119.],\n",
            "        [ 22.,  37.],\n",
            "        [ 56.,  70.]])\n",
            "Epoch [70/1000], Loss: 5.971 ,tensor([[ 69.,  96.,  70.],\n",
            "        [ 91.,  88.,  64.],\n",
            "        [ 87., 134.,  58.],\n",
            "        [102.,  43.,  37.],\n",
            "        [102.,  43.,  37.]]) , tensor([[103., 119.],\n",
            "        [ 81., 101.],\n",
            "        [119., 133.],\n",
            "        [ 22.,  37.],\n",
            "        [ 22.,  37.]])\n",
            "Epoch [80/1000], Loss: 7.516 ,tensor([[ 73.,  67.,  43.],\n",
            "        [ 87., 134.,  58.],\n",
            "        [ 73.,  67.,  43.],\n",
            "        [ 69.,  96.,  70.],\n",
            "        [ 69.,  96.,  70.]]) , tensor([[ 56.,  70.],\n",
            "        [119., 133.],\n",
            "        [ 56.,  70.],\n",
            "        [103., 119.],\n",
            "        [103., 119.]])\n",
            "Epoch [90/1000], Loss: 7.159 ,tensor([[ 69.,  96.,  70.],\n",
            "        [ 91.,  88.,  64.],\n",
            "        [ 91.,  88.,  64.],\n",
            "        [ 69.,  96.,  70.],\n",
            "        [102.,  43.,  37.]]) , tensor([[103., 119.],\n",
            "        [ 81., 101.],\n",
            "        [ 81., 101.],\n",
            "        [103., 119.],\n",
            "        [ 22.,  37.]])\n",
            "Epoch [100/1000], Loss: 2.035 ,tensor([[102.,  43.,  37.],\n",
            "        [ 91.,  88.,  64.],\n",
            "        [ 91.,  88.,  64.],\n",
            "        [ 73.,  67.,  43.],\n",
            "        [ 73.,  67.,  43.]]) , tensor([[ 22.,  37.],\n",
            "        [ 81., 101.],\n",
            "        [ 81., 101.],\n",
            "        [ 56.,  70.],\n",
            "        [ 56.,  70.]])\n",
            "Epoch [110/1000], Loss: 7.069 ,tensor([[ 91.,  88.,  64.],\n",
            "        [ 87., 134.,  58.],\n",
            "        [102.,  43.,  37.],\n",
            "        [ 69.,  96.,  70.],\n",
            "        [ 69.,  96.,  70.]]) , tensor([[ 81., 101.],\n",
            "        [119., 133.],\n",
            "        [ 22.,  37.],\n",
            "        [103., 119.],\n",
            "        [103., 119.]])\n",
            "Epoch [120/1000], Loss: 6.085 ,tensor([[ 69.,  96.,  70.],\n",
            "        [ 87., 134.,  58.],\n",
            "        [102.,  43.,  37.],\n",
            "        [ 87., 134.,  58.],\n",
            "        [102.,  43.,  37.]]) , tensor([[103., 119.],\n",
            "        [119., 133.],\n",
            "        [ 22.,  37.],\n",
            "        [119., 133.],\n",
            "        [ 22.,  37.]])\n",
            "Epoch [130/1000], Loss: 4.368 ,tensor([[ 73.,  67.,  43.],\n",
            "        [ 91.,  88.,  64.],\n",
            "        [ 69.,  96.,  70.],\n",
            "        [ 87., 134.,  58.],\n",
            "        [102.,  43.,  37.]]) , tensor([[ 56.,  70.],\n",
            "        [ 81., 101.],\n",
            "        [103., 119.],\n",
            "        [119., 133.],\n",
            "        [ 22.,  37.]])\n",
            "Epoch [140/1000], Loss: 4.524 ,tensor([[ 69.,  96.,  70.],\n",
            "        [102.,  43.,  37.],\n",
            "        [ 87., 134.,  58.],\n",
            "        [ 91.,  88.,  64.],\n",
            "        [ 91.,  88.,  64.]]) , tensor([[103., 119.],\n",
            "        [ 22.,  37.],\n",
            "        [119., 133.],\n",
            "        [ 81., 101.],\n",
            "        [ 81., 101.]])\n",
            "Epoch [150/1000], Loss: 3.365 ,tensor([[ 69.,  96.,  70.],\n",
            "        [ 73.,  67.,  43.],\n",
            "        [ 91.,  88.,  64.],\n",
            "        [ 91.,  88.,  64.],\n",
            "        [102.,  43.,  37.]]) , tensor([[103., 119.],\n",
            "        [ 56.,  70.],\n",
            "        [ 81., 101.],\n",
            "        [ 81., 101.],\n",
            "        [ 22.,  37.]])\n",
            "Epoch [160/1000], Loss: 7.745 ,tensor([[91., 88., 64.],\n",
            "        [91., 88., 64.],\n",
            "        [69., 96., 70.],\n",
            "        [69., 96., 70.],\n",
            "        [69., 96., 70.]]) , tensor([[ 81., 101.],\n",
            "        [ 81., 101.],\n",
            "        [103., 119.],\n",
            "        [103., 119.],\n",
            "        [103., 119.]])\n",
            "Epoch [170/1000], Loss: 2.613 ,tensor([[ 69.,  96.,  70.],\n",
            "        [ 73.,  67.,  43.],\n",
            "        [102.,  43.,  37.],\n",
            "        [102.,  43.,  37.],\n",
            "        [ 91.,  88.,  64.]]) , tensor([[103., 119.],\n",
            "        [ 56.,  70.],\n",
            "        [ 22.,  37.],\n",
            "        [ 22.,  37.],\n",
            "        [ 81., 101.]])\n",
            "Epoch [180/1000], Loss: 2.331 ,tensor([[ 87., 134.,  58.],\n",
            "        [ 91.,  88.,  64.],\n",
            "        [ 73.,  67.,  43.],\n",
            "        [102.,  43.,  37.],\n",
            "        [ 73.,  67.,  43.]]) , tensor([[119., 133.],\n",
            "        [ 81., 101.],\n",
            "        [ 56.,  70.],\n",
            "        [ 22.,  37.],\n",
            "        [ 56.,  70.]])\n",
            "Epoch [190/1000], Loss: 3.526 ,tensor([[ 91.,  88.,  64.],\n",
            "        [ 87., 134.,  58.],\n",
            "        [ 91.,  88.,  64.],\n",
            "        [102.,  43.,  37.],\n",
            "        [ 69.,  96.,  70.]]) , tensor([[ 81., 101.],\n",
            "        [119., 133.],\n",
            "        [ 81., 101.],\n",
            "        [ 22.,  37.],\n",
            "        [103., 119.]])\n",
            "Epoch [200/1000], Loss: 3.187 ,tensor([[ 87., 134.,  58.],\n",
            "        [ 73.,  67.,  43.],\n",
            "        [ 73.,  67.,  43.],\n",
            "        [ 91.,  88.,  64.],\n",
            "        [ 69.,  96.,  70.]]) , tensor([[119., 133.],\n",
            "        [ 56.,  70.],\n",
            "        [ 56.,  70.],\n",
            "        [ 81., 101.],\n",
            "        [103., 119.]])\n",
            "Epoch [210/1000], Loss: 2.935 ,tensor([[ 91.,  88.,  64.],\n",
            "        [ 87., 134.,  58.],\n",
            "        [102.,  43.,  37.],\n",
            "        [ 69.,  96.,  70.],\n",
            "        [102.,  43.,  37.]]) , tensor([[ 81., 101.],\n",
            "        [119., 133.],\n",
            "        [ 22.,  37.],\n",
            "        [103., 119.],\n",
            "        [ 22.,  37.]])\n",
            "Epoch [220/1000], Loss: 4.484 ,tensor([[ 87., 134.,  58.],\n",
            "        [ 87., 134.,  58.],\n",
            "        [ 69.,  96.,  70.],\n",
            "        [ 73.,  67.,  43.],\n",
            "        [ 69.,  96.,  70.]]) , tensor([[119., 133.],\n",
            "        [119., 133.],\n",
            "        [103., 119.],\n",
            "        [ 56.,  70.],\n",
            "        [103., 119.]])\n",
            "Epoch [230/1000], Loss: 2.475 ,tensor([[102.,  43.,  37.],\n",
            "        [ 73.,  67.,  43.],\n",
            "        [ 69.,  96.,  70.],\n",
            "        [ 87., 134.,  58.],\n",
            "        [102.,  43.,  37.]]) , tensor([[ 22.,  37.],\n",
            "        [ 56.,  70.],\n",
            "        [103., 119.],\n",
            "        [119., 133.],\n",
            "        [ 22.,  37.]])\n",
            "Epoch [240/1000], Loss: 3.358 ,tensor([[102.,  43.,  37.],\n",
            "        [ 69.,  96.,  70.],\n",
            "        [ 73.,  67.,  43.],\n",
            "        [ 87., 134.,  58.],\n",
            "        [ 69.,  96.,  70.]]) , tensor([[ 22.,  37.],\n",
            "        [103., 119.],\n",
            "        [ 56.,  70.],\n",
            "        [119., 133.],\n",
            "        [103., 119.]])\n",
            "Epoch [250/1000], Loss: 2.755 ,tensor([[ 91.,  88.,  64.],\n",
            "        [ 69.,  96.,  70.],\n",
            "        [ 87., 134.,  58.],\n",
            "        [ 73.,  67.,  43.],\n",
            "        [ 91.,  88.,  64.]]) , tensor([[ 81., 101.],\n",
            "        [103., 119.],\n",
            "        [119., 133.],\n",
            "        [ 56.,  70.],\n",
            "        [ 81., 101.]])\n",
            "Epoch [260/1000], Loss: 2.317 ,tensor([[91., 88., 64.],\n",
            "        [73., 67., 43.],\n",
            "        [73., 67., 43.],\n",
            "        [69., 96., 70.],\n",
            "        [91., 88., 64.]]) , tensor([[ 81., 101.],\n",
            "        [ 56.,  70.],\n",
            "        [ 56.,  70.],\n",
            "        [103., 119.],\n",
            "        [ 81., 101.]])\n",
            "Epoch [270/1000], Loss: 2.741 ,tensor([[ 69.,  96.,  70.],\n",
            "        [102.,  43.,  37.],\n",
            "        [ 69.,  96.,  70.],\n",
            "        [ 91.,  88.,  64.],\n",
            "        [102.,  43.,  37.]]) , tensor([[103., 119.],\n",
            "        [ 22.,  37.],\n",
            "        [103., 119.],\n",
            "        [ 81., 101.],\n",
            "        [ 22.,  37.]])\n",
            "Epoch [280/1000], Loss: 2.048 ,tensor([[ 69.,  96.,  70.],\n",
            "        [102.,  43.,  37.],\n",
            "        [ 91.,  88.,  64.],\n",
            "        [ 91.,  88.,  64.],\n",
            "        [ 73.,  67.,  43.]]) , tensor([[103., 119.],\n",
            "        [ 22.,  37.],\n",
            "        [ 81., 101.],\n",
            "        [ 81., 101.],\n",
            "        [ 56.,  70.]])\n",
            "Epoch [290/1000], Loss: 2.533 ,tensor([[ 69.,  96.,  70.],\n",
            "        [ 73.,  67.,  43.],\n",
            "        [ 69.,  96.,  70.],\n",
            "        [ 91.,  88.,  64.],\n",
            "        [102.,  43.,  37.]]) , tensor([[103., 119.],\n",
            "        [ 56.,  70.],\n",
            "        [103., 119.],\n",
            "        [ 81., 101.],\n",
            "        [ 22.,  37.]])\n",
            "Epoch [300/1000], Loss: 1.908 ,tensor([[102.,  43.,  37.],\n",
            "        [ 87., 134.,  58.],\n",
            "        [ 73.,  67.,  43.],\n",
            "        [ 73.,  67.,  43.],\n",
            "        [ 69.,  96.,  70.]]) , tensor([[ 22.,  37.],\n",
            "        [119., 133.],\n",
            "        [ 56.,  70.],\n",
            "        [ 56.,  70.],\n",
            "        [103., 119.]])\n",
            "Epoch [310/1000], Loss: 1.733 ,tensor([[73., 67., 43.],\n",
            "        [69., 96., 70.],\n",
            "        [73., 67., 43.],\n",
            "        [73., 67., 43.],\n",
            "        [91., 88., 64.]]) , tensor([[ 56.,  70.],\n",
            "        [103., 119.],\n",
            "        [ 56.,  70.],\n",
            "        [ 56.,  70.],\n",
            "        [ 81., 101.]])\n",
            "Epoch [320/1000], Loss: 2.047 ,tensor([[ 91.,  88.,  64.],\n",
            "        [ 91.,  88.,  64.],\n",
            "        [ 91.,  88.,  64.],\n",
            "        [102.,  43.,  37.],\n",
            "        [ 69.,  96.,  70.]]) , tensor([[ 81., 101.],\n",
            "        [ 81., 101.],\n",
            "        [ 81., 101.],\n",
            "        [ 22.,  37.],\n",
            "        [103., 119.]])\n",
            "Epoch [330/1000], Loss: 1.5 ,tensor([[ 91.,  88.,  64.],\n",
            "        [ 73.,  67.,  43.],\n",
            "        [102.,  43.,  37.],\n",
            "        [ 73.,  67.,  43.],\n",
            "        [ 69.,  96.,  70.]]) , tensor([[ 81., 101.],\n",
            "        [ 56.,  70.],\n",
            "        [ 22.,  37.],\n",
            "        [ 56.,  70.],\n",
            "        [103., 119.]])\n",
            "Epoch [340/1000], Loss: 2.07 ,tensor([[ 87., 134.,  58.],\n",
            "        [ 73.,  67.,  43.],\n",
            "        [ 69.,  96.,  70.],\n",
            "        [ 87., 134.,  58.],\n",
            "        [ 73.,  67.,  43.]]) , tensor([[119., 133.],\n",
            "        [ 56.,  70.],\n",
            "        [103., 119.],\n",
            "        [119., 133.],\n",
            "        [ 56.,  70.]])\n",
            "Epoch [350/1000], Loss: 1.613 ,tensor([[ 87., 134.,  58.],\n",
            "        [ 91.,  88.,  64.],\n",
            "        [ 91.,  88.,  64.],\n",
            "        [ 87., 134.,  58.],\n",
            "        [102.,  43.,  37.]]) , tensor([[119., 133.],\n",
            "        [ 81., 101.],\n",
            "        [ 81., 101.],\n",
            "        [119., 133.],\n",
            "        [ 22.,  37.]])\n",
            "Epoch [360/1000], Loss: 1.275 ,tensor([[ 91.,  88.,  64.],\n",
            "        [ 91.,  88.,  64.],\n",
            "        [102.,  43.,  37.],\n",
            "        [ 73.,  67.,  43.],\n",
            "        [ 87., 134.,  58.]]) , tensor([[ 81., 101.],\n",
            "        [ 81., 101.],\n",
            "        [ 22.,  37.],\n",
            "        [ 56.,  70.],\n",
            "        [119., 133.]])\n",
            "Epoch [370/1000], Loss: 1.635 ,tensor([[91., 88., 64.],\n",
            "        [91., 88., 64.],\n",
            "        [73., 67., 43.],\n",
            "        [73., 67., 43.],\n",
            "        [69., 96., 70.]]) , tensor([[ 81., 101.],\n",
            "        [ 81., 101.],\n",
            "        [ 56.,  70.],\n",
            "        [ 56.,  70.],\n",
            "        [103., 119.]])\n",
            "Epoch [380/1000], Loss: 1.384 ,tensor([[ 87., 134.,  58.],\n",
            "        [102.,  43.,  37.],\n",
            "        [ 91.,  88.,  64.],\n",
            "        [102.,  43.,  37.],\n",
            "        [ 69.,  96.,  70.]]) , tensor([[119., 133.],\n",
            "        [ 22.,  37.],\n",
            "        [ 81., 101.],\n",
            "        [ 22.,  37.],\n",
            "        [103., 119.]])\n",
            "Epoch [390/1000], Loss: 0.88 ,tensor([[ 87., 134.,  58.],\n",
            "        [102.,  43.,  37.],\n",
            "        [102.,  43.,  37.],\n",
            "        [102.,  43.,  37.],\n",
            "        [ 91.,  88.,  64.]]) , tensor([[119., 133.],\n",
            "        [ 22.,  37.],\n",
            "        [ 22.,  37.],\n",
            "        [ 22.,  37.],\n",
            "        [ 81., 101.]])\n",
            "Epoch [400/1000], Loss: 1.565 ,tensor([[ 91.,  88.,  64.],\n",
            "        [ 69.,  96.,  70.],\n",
            "        [ 87., 134.,  58.],\n",
            "        [ 91.,  88.,  64.],\n",
            "        [ 73.,  67.,  43.]]) , tensor([[ 81., 101.],\n",
            "        [103., 119.],\n",
            "        [119., 133.],\n",
            "        [ 81., 101.],\n",
            "        [ 56.,  70.]])\n",
            "Epoch [410/1000], Loss: 0.96 ,tensor([[102.,  43.,  37.],\n",
            "        [ 87., 134.,  58.],\n",
            "        [ 91.,  88.,  64.],\n",
            "        [ 91.,  88.,  64.],\n",
            "        [102.,  43.,  37.]]) , tensor([[ 22.,  37.],\n",
            "        [119., 133.],\n",
            "        [ 81., 101.],\n",
            "        [ 81., 101.],\n",
            "        [ 22.,  37.]])\n",
            "Epoch [420/1000], Loss: 1.375 ,tensor([[ 87., 134.,  58.],\n",
            "        [ 73.,  67.,  43.],\n",
            "        [ 69.,  96.,  70.],\n",
            "        [ 91.,  88.,  64.],\n",
            "        [ 73.,  67.,  43.]]) , tensor([[119., 133.],\n",
            "        [ 56.,  70.],\n",
            "        [103., 119.],\n",
            "        [ 81., 101.],\n",
            "        [ 56.,  70.]])\n",
            "Epoch [430/1000], Loss: 1.331 ,tensor([[102.,  43.,  37.],\n",
            "        [ 91.,  88.,  64.],\n",
            "        [ 87., 134.,  58.],\n",
            "        [ 69.,  96.,  70.],\n",
            "        [ 87., 134.,  58.]]) , tensor([[ 22.,  37.],\n",
            "        [ 81., 101.],\n",
            "        [119., 133.],\n",
            "        [103., 119.],\n",
            "        [119., 133.]])\n",
            "Epoch [440/1000], Loss: 1.288 ,tensor([[102.,  43.,  37.],\n",
            "        [ 69.,  96.,  70.],\n",
            "        [ 87., 134.,  58.],\n",
            "        [ 87., 134.,  58.],\n",
            "        [ 73.,  67.,  43.]]) , tensor([[ 22.,  37.],\n",
            "        [103., 119.],\n",
            "        [119., 133.],\n",
            "        [119., 133.],\n",
            "        [ 56.,  70.]])\n",
            "Epoch [450/1000], Loss: 1.434 ,tensor([[ 91.,  88.,  64.],\n",
            "        [ 69.,  96.,  70.],\n",
            "        [ 73.,  67.,  43.],\n",
            "        [102.,  43.,  37.],\n",
            "        [ 69.,  96.,  70.]]) , tensor([[ 81., 101.],\n",
            "        [103., 119.],\n",
            "        [ 56.,  70.],\n",
            "        [ 22.,  37.],\n",
            "        [103., 119.]])\n",
            "Epoch [460/1000], Loss: 1.055 ,tensor([[102.,  43.,  37.],\n",
            "        [ 73.,  67.,  43.],\n",
            "        [ 87., 134.,  58.],\n",
            "        [ 91.,  88.,  64.],\n",
            "        [ 87., 134.,  58.]]) , tensor([[ 22.,  37.],\n",
            "        [ 56.,  70.],\n",
            "        [119., 133.],\n",
            "        [ 81., 101.],\n",
            "        [119., 133.]])\n",
            "Epoch [470/1000], Loss: 0.989 ,tensor([[ 73.,  67.,  43.],\n",
            "        [102.,  43.,  37.],\n",
            "        [102.,  43.,  37.],\n",
            "        [ 69.,  96.,  70.],\n",
            "        [ 87., 134.,  58.]]) , tensor([[ 56.,  70.],\n",
            "        [ 22.,  37.],\n",
            "        [ 22.,  37.],\n",
            "        [103., 119.],\n",
            "        [119., 133.]])\n",
            "Epoch [480/1000], Loss: 1.406 ,tensor([[ 91.,  88.,  64.],\n",
            "        [ 87., 134.,  58.],\n",
            "        [ 69.,  96.,  70.],\n",
            "        [ 69.,  96.,  70.],\n",
            "        [ 87., 134.,  58.]]) , tensor([[ 81., 101.],\n",
            "        [119., 133.],\n",
            "        [103., 119.],\n",
            "        [103., 119.],\n",
            "        [119., 133.]])\n",
            "Epoch [490/1000], Loss: 1.079 ,tensor([[102.,  43.,  37.],\n",
            "        [ 87., 134.,  58.],\n",
            "        [ 91.,  88.,  64.],\n",
            "        [ 69.,  96.,  70.],\n",
            "        [ 91.,  88.,  64.]]) , tensor([[ 22.,  37.],\n",
            "        [119., 133.],\n",
            "        [ 81., 101.],\n",
            "        [103., 119.],\n",
            "        [ 81., 101.]])\n",
            "Epoch [500/1000], Loss: 1.151 ,tensor([[ 87., 134.,  58.],\n",
            "        [ 91.,  88.,  64.],\n",
            "        [ 73.,  67.,  43.],\n",
            "        [ 69.,  96.,  70.],\n",
            "        [ 91.,  88.,  64.]]) , tensor([[119., 133.],\n",
            "        [ 81., 101.],\n",
            "        [ 56.,  70.],\n",
            "        [103., 119.],\n",
            "        [ 81., 101.]])\n",
            "Epoch [510/1000], Loss: 1.012 ,tensor([[ 69.,  96.,  70.],\n",
            "        [ 87., 134.,  58.],\n",
            "        [102.,  43.,  37.],\n",
            "        [ 91.,  88.,  64.],\n",
            "        [ 91.,  88.,  64.]]) , tensor([[103., 119.],\n",
            "        [119., 133.],\n",
            "        [ 22.,  37.],\n",
            "        [ 81., 101.],\n",
            "        [ 81., 101.]])\n",
            "Epoch [520/1000], Loss: 1.19 ,tensor([[ 87., 134.,  58.],\n",
            "        [ 69.,  96.,  70.],\n",
            "        [ 73.,  67.,  43.],\n",
            "        [ 87., 134.,  58.],\n",
            "        [ 69.,  96.,  70.]]) , tensor([[119., 133.],\n",
            "        [103., 119.],\n",
            "        [ 56.,  70.],\n",
            "        [119., 133.],\n",
            "        [103., 119.]])\n",
            "Epoch [530/1000], Loss: 0.923 ,tensor([[ 91.,  88.,  64.],\n",
            "        [ 87., 134.,  58.],\n",
            "        [ 73.,  67.,  43.],\n",
            "        [ 69.,  96.,  70.],\n",
            "        [102.,  43.,  37.]]) , tensor([[ 81., 101.],\n",
            "        [119., 133.],\n",
            "        [ 56.,  70.],\n",
            "        [103., 119.],\n",
            "        [ 22.,  37.]])\n",
            "Epoch [540/1000], Loss: 0.943 ,tensor([[ 73.,  67.,  43.],\n",
            "        [ 91.,  88.,  64.],\n",
            "        [ 73.,  67.,  43.],\n",
            "        [ 69.,  96.,  70.],\n",
            "        [102.,  43.,  37.]]) , tensor([[ 56.,  70.],\n",
            "        [ 81., 101.],\n",
            "        [ 56.,  70.],\n",
            "        [103., 119.],\n",
            "        [ 22.,  37.]])\n",
            "Epoch [550/1000], Loss: 1.074 ,tensor([[ 91.,  88.,  64.],\n",
            "        [ 69.,  96.,  70.],\n",
            "        [102.,  43.,  37.],\n",
            "        [ 91.,  88.,  64.],\n",
            "        [ 91.,  88.,  64.]]) , tensor([[ 81., 101.],\n",
            "        [103., 119.],\n",
            "        [ 22.,  37.],\n",
            "        [ 81., 101.],\n",
            "        [ 81., 101.]])\n",
            "Epoch [560/1000], Loss: 0.996 ,tensor([[ 87., 134.,  58.],\n",
            "        [ 87., 134.,  58.],\n",
            "        [102.,  43.,  37.],\n",
            "        [ 69.,  96.,  70.],\n",
            "        [ 69.,  96.,  70.]]) , tensor([[119., 133.],\n",
            "        [119., 133.],\n",
            "        [ 22.,  37.],\n",
            "        [103., 119.],\n",
            "        [103., 119.]])\n",
            "Epoch [570/1000], Loss: 0.79 ,tensor([[ 91.,  88.,  64.],\n",
            "        [ 73.,  67.,  43.],\n",
            "        [ 91.,  88.,  64.],\n",
            "        [102.,  43.,  37.],\n",
            "        [ 87., 134.,  58.]]) , tensor([[ 81., 101.],\n",
            "        [ 56.,  70.],\n",
            "        [ 81., 101.],\n",
            "        [ 22.,  37.],\n",
            "        [119., 133.]])\n",
            "Epoch [580/1000], Loss: 0.936 ,tensor([[ 73.,  67.,  43.],\n",
            "        [ 91.,  88.,  64.],\n",
            "        [ 73.,  67.,  43.],\n",
            "        [ 87., 134.,  58.],\n",
            "        [ 69.,  96.,  70.]]) , tensor([[ 56.,  70.],\n",
            "        [ 81., 101.],\n",
            "        [ 56.,  70.],\n",
            "        [119., 133.],\n",
            "        [103., 119.]])\n",
            "Epoch [590/1000], Loss: 0.809 ,tensor([[ 87., 134.,  58.],\n",
            "        [ 69.,  96.,  70.],\n",
            "        [ 91.,  88.,  64.],\n",
            "        [ 73.,  67.,  43.],\n",
            "        [102.,  43.,  37.]]) , tensor([[119., 133.],\n",
            "        [103., 119.],\n",
            "        [ 81., 101.],\n",
            "        [ 56.,  70.],\n",
            "        [ 22.,  37.]])\n",
            "Epoch [600/1000], Loss: 1.054 ,tensor([[ 91.,  88.,  64.],\n",
            "        [ 69.,  96.,  70.],\n",
            "        [102.,  43.,  37.],\n",
            "        [ 69.,  96.,  70.],\n",
            "        [ 91.,  88.,  64.]]) , tensor([[ 81., 101.],\n",
            "        [103., 119.],\n",
            "        [ 22.,  37.],\n",
            "        [103., 119.],\n",
            "        [ 81., 101.]])\n",
            "Epoch [610/1000], Loss: 0.622 ,tensor([[ 91.,  88.,  64.],\n",
            "        [ 73.,  67.,  43.],\n",
            "        [102.,  43.,  37.],\n",
            "        [102.,  43.,  37.],\n",
            "        [ 87., 134.,  58.]]) , tensor([[ 81., 101.],\n",
            "        [ 56.,  70.],\n",
            "        [ 22.,  37.],\n",
            "        [ 22.,  37.],\n",
            "        [119., 133.]])\n",
            "Epoch [620/1000], Loss: 0.942 ,tensor([[ 69.,  96.,  70.],\n",
            "        [ 69.,  96.,  70.],\n",
            "        [ 91.,  88.,  64.],\n",
            "        [ 87., 134.,  58.],\n",
            "        [ 73.,  67.,  43.]]) , tensor([[103., 119.],\n",
            "        [103., 119.],\n",
            "        [ 81., 101.],\n",
            "        [119., 133.],\n",
            "        [ 56.,  70.]])\n",
            "Epoch [630/1000], Loss: 0.859 ,tensor([[ 69.,  96.,  70.],\n",
            "        [ 73.,  67.,  43.],\n",
            "        [ 73.,  67.,  43.],\n",
            "        [ 87., 134.,  58.],\n",
            "        [ 91.,  88.,  64.]]) , tensor([[103., 119.],\n",
            "        [ 56.,  70.],\n",
            "        [ 56.,  70.],\n",
            "        [119., 133.],\n",
            "        [ 81., 101.]])\n",
            "Epoch [640/1000], Loss: 0.854 ,tensor([[ 87., 134.,  58.],\n",
            "        [ 69.,  96.,  70.],\n",
            "        [ 91.,  88.,  64.],\n",
            "        [ 91.,  88.,  64.],\n",
            "        [ 73.,  67.,  43.]]) , tensor([[119., 133.],\n",
            "        [103., 119.],\n",
            "        [ 81., 101.],\n",
            "        [ 81., 101.],\n",
            "        [ 56.,  70.]])\n",
            "Epoch [650/1000], Loss: 0.793 ,tensor([[ 69.,  96.,  70.],\n",
            "        [ 91.,  88.,  64.],\n",
            "        [ 69.,  96.,  70.],\n",
            "        [ 87., 134.,  58.],\n",
            "        [ 87., 134.,  58.]]) , tensor([[103., 119.],\n",
            "        [ 81., 101.],\n",
            "        [103., 119.],\n",
            "        [119., 133.],\n",
            "        [119., 133.]])\n",
            "Epoch [660/1000], Loss: 0.728 ,tensor([[ 87., 134.,  58.],\n",
            "        [ 91.,  88.,  64.],\n",
            "        [ 91.,  88.,  64.],\n",
            "        [102.,  43.,  37.],\n",
            "        [ 69.,  96.,  70.]]) , tensor([[119., 133.],\n",
            "        [ 81., 101.],\n",
            "        [ 81., 101.],\n",
            "        [ 22.,  37.],\n",
            "        [103., 119.]])\n",
            "Epoch [670/1000], Loss: 0.707 ,tensor([[102.,  43.,  37.],\n",
            "        [ 91.,  88.,  64.],\n",
            "        [ 91.,  88.,  64.],\n",
            "        [ 73.,  67.,  43.],\n",
            "        [102.,  43.,  37.]]) , tensor([[ 22.,  37.],\n",
            "        [ 81., 101.],\n",
            "        [ 81., 101.],\n",
            "        [ 56.,  70.],\n",
            "        [ 22.,  37.]])\n",
            "Epoch [680/1000], Loss: 0.795 ,tensor([[ 91.,  88.,  64.],\n",
            "        [ 69.,  96.,  70.],\n",
            "        [102.,  43.,  37.],\n",
            "        [ 69.,  96.,  70.],\n",
            "        [ 87., 134.,  58.]]) , tensor([[ 81., 101.],\n",
            "        [103., 119.],\n",
            "        [ 22.,  37.],\n",
            "        [103., 119.],\n",
            "        [119., 133.]])\n",
            "Epoch [690/1000], Loss: 0.865 ,tensor([[ 73.,  67.,  43.],\n",
            "        [ 73.,  67.,  43.],\n",
            "        [ 73.,  67.,  43.],\n",
            "        [102.,  43.,  37.],\n",
            "        [ 91.,  88.,  64.]]) , tensor([[ 56.,  70.],\n",
            "        [ 56.,  70.],\n",
            "        [ 56.,  70.],\n",
            "        [ 22.,  37.],\n",
            "        [ 81., 101.]])\n",
            "Epoch [700/1000], Loss: 0.68 ,tensor([[ 69.,  96.,  70.],\n",
            "        [ 69.,  96.,  70.],\n",
            "        [ 87., 134.,  58.],\n",
            "        [102.,  43.,  37.],\n",
            "        [ 87., 134.,  58.]]) , tensor([[103., 119.],\n",
            "        [103., 119.],\n",
            "        [119., 133.],\n",
            "        [ 22.,  37.],\n",
            "        [119., 133.]])\n",
            "Epoch [710/1000], Loss: 0.751 ,tensor([[102.,  43.,  37.],\n",
            "        [ 91.,  88.,  64.],\n",
            "        [ 69.,  96.,  70.],\n",
            "        [ 87., 134.,  58.],\n",
            "        [ 69.,  96.,  70.]]) , tensor([[ 22.,  37.],\n",
            "        [ 81., 101.],\n",
            "        [103., 119.],\n",
            "        [119., 133.],\n",
            "        [103., 119.]])\n",
            "Epoch [720/1000], Loss: 0.827 ,tensor([[ 69.,  96.,  70.],\n",
            "        [ 91.,  88.,  64.],\n",
            "        [ 73.,  67.,  43.],\n",
            "        [102.,  43.,  37.],\n",
            "        [ 69.,  96.,  70.]]) , tensor([[103., 119.],\n",
            "        [ 81., 101.],\n",
            "        [ 56.,  70.],\n",
            "        [ 22.,  37.],\n",
            "        [103., 119.]])\n",
            "Epoch [730/1000], Loss: 0.733 ,tensor([[ 91.,  88.,  64.],\n",
            "        [ 87., 134.,  58.],\n",
            "        [ 69.,  96.,  70.],\n",
            "        [ 69.,  96.,  70.],\n",
            "        [102.,  43.,  37.]]) , tensor([[ 81., 101.],\n",
            "        [119., 133.],\n",
            "        [103., 119.],\n",
            "        [103., 119.],\n",
            "        [ 22.,  37.]])\n",
            "Epoch [740/1000], Loss: 0.526 ,tensor([[ 87., 134.,  58.],\n",
            "        [ 73.,  67.,  43.],\n",
            "        [102.,  43.,  37.],\n",
            "        [ 87., 134.,  58.],\n",
            "        [ 91.,  88.,  64.]]) , tensor([[119., 133.],\n",
            "        [ 56.,  70.],\n",
            "        [ 22.,  37.],\n",
            "        [119., 133.],\n",
            "        [ 81., 101.]])\n",
            "Epoch [750/1000], Loss: 0.806 ,tensor([[ 73.,  67.,  43.],\n",
            "        [ 91.,  88.,  64.],\n",
            "        [102.,  43.,  37.],\n",
            "        [ 91.,  88.,  64.],\n",
            "        [ 69.,  96.,  70.]]) , tensor([[ 56.,  70.],\n",
            "        [ 81., 101.],\n",
            "        [ 22.,  37.],\n",
            "        [ 81., 101.],\n",
            "        [103., 119.]])\n",
            "Epoch [760/1000], Loss: 0.512 ,tensor([[ 87., 134.,  58.],\n",
            "        [ 91.,  88.,  64.],\n",
            "        [102.,  43.,  37.],\n",
            "        [ 73.,  67.,  43.],\n",
            "        [ 87., 134.,  58.]]) , tensor([[119., 133.],\n",
            "        [ 81., 101.],\n",
            "        [ 22.,  37.],\n",
            "        [ 56.,  70.],\n",
            "        [119., 133.]])\n",
            "Epoch [770/1000], Loss: 0.499 ,tensor([[ 91.,  88.,  64.],\n",
            "        [102.,  43.,  37.],\n",
            "        [ 69.,  96.,  70.],\n",
            "        [ 87., 134.,  58.],\n",
            "        [ 87., 134.,  58.]]) , tensor([[ 81., 101.],\n",
            "        [ 22.,  37.],\n",
            "        [103., 119.],\n",
            "        [119., 133.],\n",
            "        [119., 133.]])\n",
            "Epoch [780/1000], Loss: 0.547 ,tensor([[ 87., 134.,  58.],\n",
            "        [102.,  43.,  37.],\n",
            "        [102.,  43.,  37.],\n",
            "        [ 91.,  88.,  64.],\n",
            "        [ 69.,  96.,  70.]]) , tensor([[119., 133.],\n",
            "        [ 22.,  37.],\n",
            "        [ 22.,  37.],\n",
            "        [ 81., 101.],\n",
            "        [103., 119.]])\n",
            "Epoch [790/1000], Loss: 0.738 ,tensor([[ 73.,  67.,  43.],\n",
            "        [ 91.,  88.,  64.],\n",
            "        [ 69.,  96.,  70.],\n",
            "        [ 87., 134.,  58.],\n",
            "        [ 91.,  88.,  64.]]) , tensor([[ 56.,  70.],\n",
            "        [ 81., 101.],\n",
            "        [103., 119.],\n",
            "        [119., 133.],\n",
            "        [ 81., 101.]])\n",
            "Epoch [800/1000], Loss: 0.614 ,tensor([[ 69.,  96.,  70.],\n",
            "        [ 87., 134.,  58.],\n",
            "        [102.,  43.,  37.],\n",
            "        [ 73.,  67.,  43.],\n",
            "        [ 91.,  88.,  64.]]) , tensor([[103., 119.],\n",
            "        [119., 133.],\n",
            "        [ 22.,  37.],\n",
            "        [ 56.,  70.],\n",
            "        [ 81., 101.]])\n",
            "Epoch [810/1000], Loss: 0.544 ,tensor([[102.,  43.,  37.],\n",
            "        [ 87., 134.,  58.],\n",
            "        [ 91.,  88.,  64.],\n",
            "        [ 69.,  96.,  70.],\n",
            "        [102.,  43.,  37.]]) , tensor([[ 22.,  37.],\n",
            "        [119., 133.],\n",
            "        [ 81., 101.],\n",
            "        [103., 119.],\n",
            "        [ 22.,  37.]])\n",
            "Epoch [820/1000], Loss: 0.726 ,tensor([[ 73.,  67.,  43.],\n",
            "        [ 69.,  96.,  70.],\n",
            "        [ 91.,  88.,  64.],\n",
            "        [ 73.,  67.,  43.],\n",
            "        [ 87., 134.,  58.]]) , tensor([[ 56.,  70.],\n",
            "        [103., 119.],\n",
            "        [ 81., 101.],\n",
            "        [ 56.,  70.],\n",
            "        [119., 133.]])\n",
            "Epoch [830/1000], Loss: 0.479 ,tensor([[ 73.,  67.,  43.],\n",
            "        [ 91.,  88.,  64.],\n",
            "        [102.,  43.,  37.],\n",
            "        [ 87., 134.,  58.],\n",
            "        [ 87., 134.,  58.]]) , tensor([[ 56.,  70.],\n",
            "        [ 81., 101.],\n",
            "        [ 22.,  37.],\n",
            "        [119., 133.],\n",
            "        [119., 133.]])\n",
            "Epoch [840/1000], Loss: 0.755 ,tensor([[ 69.,  96.,  70.],\n",
            "        [ 91.,  88.,  64.],\n",
            "        [ 69.,  96.,  70.],\n",
            "        [ 91.,  88.,  64.],\n",
            "        [102.,  43.,  37.]]) , tensor([[103., 119.],\n",
            "        [ 81., 101.],\n",
            "        [103., 119.],\n",
            "        [ 81., 101.],\n",
            "        [ 22.,  37.]])\n",
            "Epoch [850/1000], Loss: 0.382 ,tensor([[ 91.,  88.,  64.],\n",
            "        [ 87., 134.,  58.],\n",
            "        [102.,  43.,  37.],\n",
            "        [102.,  43.,  37.],\n",
            "        [ 87., 134.,  58.]]) , tensor([[ 81., 101.],\n",
            "        [119., 133.],\n",
            "        [ 22.,  37.],\n",
            "        [ 22.,  37.],\n",
            "        [119., 133.]])\n",
            "Epoch [860/1000], Loss: 0.756 ,tensor([[102.,  43.,  37.],\n",
            "        [ 73.,  67.,  43.],\n",
            "        [ 91.,  88.,  64.],\n",
            "        [ 91.,  88.,  64.],\n",
            "        [ 69.,  96.,  70.]]) , tensor([[ 22.,  37.],\n",
            "        [ 56.,  70.],\n",
            "        [ 81., 101.],\n",
            "        [ 81., 101.],\n",
            "        [103., 119.]])\n",
            "Epoch [870/1000], Loss: 0.586 ,tensor([[ 73.,  67.,  43.],\n",
            "        [ 69.,  96.,  70.],\n",
            "        [ 87., 134.,  58.],\n",
            "        [ 91.,  88.,  64.],\n",
            "        [102.,  43.,  37.]]) , tensor([[ 56.,  70.],\n",
            "        [103., 119.],\n",
            "        [119., 133.],\n",
            "        [ 81., 101.],\n",
            "        [ 22.,  37.]])\n",
            "Epoch [880/1000], Loss: 0.676 ,tensor([[ 91.,  88.,  64.],\n",
            "        [ 91.,  88.,  64.],\n",
            "        [ 69.,  96.,  70.],\n",
            "        [ 73.,  67.,  43.],\n",
            "        [ 87., 134.,  58.]]) , tensor([[ 81., 101.],\n",
            "        [ 81., 101.],\n",
            "        [103., 119.],\n",
            "        [ 56.,  70.],\n",
            "        [119., 133.]])\n",
            "Epoch [890/1000], Loss: 0.515 ,tensor([[102.,  43.,  37.],\n",
            "        [ 87., 134.,  58.],\n",
            "        [102.,  43.,  37.],\n",
            "        [ 91.,  88.,  64.],\n",
            "        [ 73.,  67.,  43.]]) , tensor([[ 22.,  37.],\n",
            "        [119., 133.],\n",
            "        [ 22.,  37.],\n",
            "        [ 81., 101.],\n",
            "        [ 56.,  70.]])\n",
            "Epoch [900/1000], Loss: 0.635 ,tensor([[102.,  43.,  37.],\n",
            "        [ 73.,  67.,  43.],\n",
            "        [ 91.,  88.,  64.],\n",
            "        [ 87., 134.,  58.],\n",
            "        [ 91.,  88.,  64.]]) , tensor([[ 22.,  37.],\n",
            "        [ 56.,  70.],\n",
            "        [ 81., 101.],\n",
            "        [119., 133.],\n",
            "        [ 81., 101.]])\n",
            "Epoch [910/1000], Loss: 0.888 ,tensor([[69., 96., 70.],\n",
            "        [73., 67., 43.],\n",
            "        [91., 88., 64.],\n",
            "        [73., 67., 43.],\n",
            "        [73., 67., 43.]]) , tensor([[103., 119.],\n",
            "        [ 56.,  70.],\n",
            "        [ 81., 101.],\n",
            "        [ 56.,  70.],\n",
            "        [ 56.,  70.]])\n",
            "Epoch [920/1000], Loss: 0.73 ,tensor([[ 91.,  88.,  64.],\n",
            "        [ 91.,  88.,  64.],\n",
            "        [ 69.,  96.,  70.],\n",
            "        [ 73.,  67.,  43.],\n",
            "        [102.,  43.,  37.]]) , tensor([[ 81., 101.],\n",
            "        [ 81., 101.],\n",
            "        [103., 119.],\n",
            "        [ 56.,  70.],\n",
            "        [ 22.,  37.]])\n",
            "Epoch [930/1000], Loss: 0.571 ,tensor([[ 87., 134.,  58.],\n",
            "        [102.,  43.,  37.],\n",
            "        [ 91.,  88.,  64.],\n",
            "        [ 69.,  96.,  70.],\n",
            "        [ 73.,  67.,  43.]]) , tensor([[119., 133.],\n",
            "        [ 22.,  37.],\n",
            "        [ 81., 101.],\n",
            "        [103., 119.],\n",
            "        [ 56.,  70.]])\n",
            "Epoch [940/1000], Loss: 0.562 ,tensor([[102.,  43.,  37.],\n",
            "        [ 91.,  88.,  64.],\n",
            "        [ 91.,  88.,  64.],\n",
            "        [ 69.,  96.,  70.],\n",
            "        [ 87., 134.,  58.]]) , tensor([[ 22.,  37.],\n",
            "        [ 81., 101.],\n",
            "        [ 81., 101.],\n",
            "        [103., 119.],\n",
            "        [119., 133.]])\n",
            "Epoch [950/1000], Loss: 0.629 ,tensor([[ 69.,  96.,  70.],\n",
            "        [ 69.,  96.,  70.],\n",
            "        [ 87., 134.,  58.],\n",
            "        [ 91.,  88.,  64.],\n",
            "        [ 73.,  67.,  43.]]) , tensor([[103., 119.],\n",
            "        [103., 119.],\n",
            "        [119., 133.],\n",
            "        [ 81., 101.],\n",
            "        [ 56.,  70.]])\n",
            "Epoch [960/1000], Loss: 0.563 ,tensor([[ 87., 134.,  58.],\n",
            "        [ 73.,  67.,  43.],\n",
            "        [ 91.,  88.,  64.],\n",
            "        [102.,  43.,  37.],\n",
            "        [ 69.,  96.,  70.]]) , tensor([[119., 133.],\n",
            "        [ 56.,  70.],\n",
            "        [ 81., 101.],\n",
            "        [ 22.,  37.],\n",
            "        [103., 119.]])\n",
            "Epoch [970/1000], Loss: 0.553 ,tensor([[ 91.,  88.,  64.],\n",
            "        [ 87., 134.,  58.],\n",
            "        [ 87., 134.,  58.],\n",
            "        [ 91.,  88.,  64.],\n",
            "        [ 91.,  88.,  64.]]) , tensor([[ 81., 101.],\n",
            "        [119., 133.],\n",
            "        [119., 133.],\n",
            "        [ 81., 101.],\n",
            "        [ 81., 101.]])\n",
            "Epoch [980/1000], Loss: 0.695 ,tensor([[ 73.,  67.,  43.],\n",
            "        [102.,  43.,  37.],\n",
            "        [ 69.,  96.,  70.],\n",
            "        [ 69.,  96.,  70.],\n",
            "        [ 91.,  88.,  64.]]) , tensor([[ 56.,  70.],\n",
            "        [ 22.,  37.],\n",
            "        [103., 119.],\n",
            "        [103., 119.],\n",
            "        [ 81., 101.]])\n",
            "Epoch [990/1000], Loss: 0.627 ,tensor([[102.,  43.,  37.],\n",
            "        [ 91.,  88.,  64.],\n",
            "        [102.,  43.,  37.],\n",
            "        [ 73.,  67.,  43.],\n",
            "        [ 69.,  96.,  70.]]) , tensor([[ 22.,  37.],\n",
            "        [ 81., 101.],\n",
            "        [ 22.,  37.],\n",
            "        [ 56.,  70.],\n",
            "        [103., 119.]])\n",
            "Epoch [1000/1000], Loss: 0.576 ,tensor([[ 73.,  67.,  43.],\n",
            "        [102.,  43.,  37.],\n",
            "        [ 73.,  67.,  43.],\n",
            "        [ 87., 134.,  58.],\n",
            "        [ 69.,  96.,  70.]]) , tensor([[ 56.,  70.],\n",
            "        [ 22.,  37.],\n",
            "        [ 56.,  70.],\n",
            "        [119., 133.],\n",
            "        [103., 119.]])\n"
          ]
        }
      ]
    },
    {
      "cell_type": "code",
      "source": [
        "# 2\n",
        "model2 = nn.Linear(3,2)\n",
        "print(model2.weight)\n",
        "print(model2.bias)\n",
        "opt2 = torch.optim.SGD(model2.parameters(), lr=0.1)\n",
        "fit(250, model2, loss_fn, opt2, train_dl)\n",
        "preds = model2(inputs)\n",
        "print(preds)\n",
        "print(targets)\n",
        "from sklearn.metrics import mean_squared_error\n",
        "# print(mean_squared_error(targets.detach().numpy() ,preds.detach().numpy() ))"
      ],
      "metadata": {
        "colab": {
          "base_uri": "https://localhost:8080/"
        },
        "id": "9INJuryRk5YS",
        "outputId": "44b8e8b5-3a2b-45fb-f41e-e38ac5109f91"
      },
      "execution_count": 42,
      "outputs": [
        {
          "output_type": "stream",
          "name": "stdout",
          "text": [
            "Parameter containing:\n",
            "tensor([[-0.1645,  0.0543,  0.3362],\n",
            "        [ 0.0025,  0.1159,  0.1979]], requires_grad=True)\n",
            "Parameter containing:\n",
            "tensor([-0.3168, -0.4233], requires_grad=True)\n",
            "Epoch [10/250], Loss: nan ,tensor([[ 69.,  96.,  70.],\n",
            "        [ 87., 134.,  58.],\n",
            "        [ 73.,  67.,  43.],\n",
            "        [ 69.,  96.,  70.],\n",
            "        [ 69.,  96.,  70.]]) , tensor([[103., 119.],\n",
            "        [119., 133.],\n",
            "        [ 56.,  70.],\n",
            "        [103., 119.],\n",
            "        [103., 119.]])\n",
            "Epoch [20/250], Loss: nan ,tensor([[ 91.,  88.,  64.],\n",
            "        [ 69.,  96.,  70.],\n",
            "        [ 91.,  88.,  64.],\n",
            "        [102.,  43.,  37.],\n",
            "        [ 91.,  88.,  64.]]) , tensor([[ 81., 101.],\n",
            "        [103., 119.],\n",
            "        [ 81., 101.],\n",
            "        [ 22.,  37.],\n",
            "        [ 81., 101.]])\n",
            "Epoch [30/250], Loss: nan ,tensor([[ 87., 134.,  58.],\n",
            "        [ 91.,  88.,  64.],\n",
            "        [ 91.,  88.,  64.],\n",
            "        [ 73.,  67.,  43.],\n",
            "        [ 73.,  67.,  43.]]) , tensor([[119., 133.],\n",
            "        [ 81., 101.],\n",
            "        [ 81., 101.],\n",
            "        [ 56.,  70.],\n",
            "        [ 56.,  70.]])\n",
            "Epoch [40/250], Loss: nan ,tensor([[ 73.,  67.,  43.],\n",
            "        [102.,  43.,  37.],\n",
            "        [102.,  43.,  37.],\n",
            "        [ 87., 134.,  58.],\n",
            "        [ 73.,  67.,  43.]]) , tensor([[ 56.,  70.],\n",
            "        [ 22.,  37.],\n",
            "        [ 22.,  37.],\n",
            "        [119., 133.],\n",
            "        [ 56.,  70.]])\n",
            "Epoch [50/250], Loss: nan ,tensor([[ 87., 134.,  58.],\n",
            "        [ 69.,  96.,  70.],\n",
            "        [ 69.,  96.,  70.],\n",
            "        [ 73.,  67.,  43.],\n",
            "        [ 87., 134.,  58.]]) , tensor([[119., 133.],\n",
            "        [103., 119.],\n",
            "        [103., 119.],\n",
            "        [ 56.,  70.],\n",
            "        [119., 133.]])\n",
            "Epoch [60/250], Loss: nan ,tensor([[ 87., 134.,  58.],\n",
            "        [ 87., 134.,  58.],\n",
            "        [ 73.,  67.,  43.],\n",
            "        [ 91.,  88.,  64.],\n",
            "        [102.,  43.,  37.]]) , tensor([[119., 133.],\n",
            "        [119., 133.],\n",
            "        [ 56.,  70.],\n",
            "        [ 81., 101.],\n",
            "        [ 22.,  37.]])\n",
            "Epoch [70/250], Loss: nan ,tensor([[ 91.,  88.,  64.],\n",
            "        [ 69.,  96.,  70.],\n",
            "        [ 91.,  88.,  64.],\n",
            "        [ 87., 134.,  58.],\n",
            "        [ 91.,  88.,  64.]]) , tensor([[ 81., 101.],\n",
            "        [103., 119.],\n",
            "        [ 81., 101.],\n",
            "        [119., 133.],\n",
            "        [ 81., 101.]])\n",
            "Epoch [80/250], Loss: nan ,tensor([[ 91.,  88.,  64.],\n",
            "        [ 87., 134.,  58.],\n",
            "        [102.,  43.,  37.],\n",
            "        [ 73.,  67.,  43.],\n",
            "        [ 91.,  88.,  64.]]) , tensor([[ 81., 101.],\n",
            "        [119., 133.],\n",
            "        [ 22.,  37.],\n",
            "        [ 56.,  70.],\n",
            "        [ 81., 101.]])\n",
            "Epoch [90/250], Loss: nan ,tensor([[ 73.,  67.,  43.],\n",
            "        [ 91.,  88.,  64.],\n",
            "        [ 87., 134.,  58.],\n",
            "        [ 91.,  88.,  64.],\n",
            "        [ 73.,  67.,  43.]]) , tensor([[ 56.,  70.],\n",
            "        [ 81., 101.],\n",
            "        [119., 133.],\n",
            "        [ 81., 101.],\n",
            "        [ 56.,  70.]])\n",
            "Epoch [100/250], Loss: nan ,tensor([[ 69.,  96.,  70.],\n",
            "        [ 87., 134.,  58.],\n",
            "        [102.,  43.,  37.],\n",
            "        [ 73.,  67.,  43.],\n",
            "        [ 87., 134.,  58.]]) , tensor([[103., 119.],\n",
            "        [119., 133.],\n",
            "        [ 22.,  37.],\n",
            "        [ 56.,  70.],\n",
            "        [119., 133.]])\n",
            "Epoch [110/250], Loss: nan ,tensor([[ 69.,  96.,  70.],\n",
            "        [102.,  43.,  37.],\n",
            "        [102.,  43.,  37.],\n",
            "        [ 73.,  67.,  43.],\n",
            "        [ 69.,  96.,  70.]]) , tensor([[103., 119.],\n",
            "        [ 22.,  37.],\n",
            "        [ 22.,  37.],\n",
            "        [ 56.,  70.],\n",
            "        [103., 119.]])\n",
            "Epoch [120/250], Loss: nan ,tensor([[ 91.,  88.,  64.],\n",
            "        [102.,  43.,  37.],\n",
            "        [ 87., 134.,  58.],\n",
            "        [ 73.,  67.,  43.],\n",
            "        [ 69.,  96.,  70.]]) , tensor([[ 81., 101.],\n",
            "        [ 22.,  37.],\n",
            "        [119., 133.],\n",
            "        [ 56.,  70.],\n",
            "        [103., 119.]])\n",
            "Epoch [130/250], Loss: nan ,tensor([[ 73.,  67.,  43.],\n",
            "        [ 91.,  88.,  64.],\n",
            "        [ 87., 134.,  58.],\n",
            "        [ 73.,  67.,  43.],\n",
            "        [102.,  43.,  37.]]) , tensor([[ 56.,  70.],\n",
            "        [ 81., 101.],\n",
            "        [119., 133.],\n",
            "        [ 56.,  70.],\n",
            "        [ 22.,  37.]])\n",
            "Epoch [140/250], Loss: nan ,tensor([[ 91.,  88.,  64.],\n",
            "        [ 87., 134.,  58.],\n",
            "        [ 91.,  88.,  64.],\n",
            "        [ 73.,  67.,  43.],\n",
            "        [ 73.,  67.,  43.]]) , tensor([[ 81., 101.],\n",
            "        [119., 133.],\n",
            "        [ 81., 101.],\n",
            "        [ 56.,  70.],\n",
            "        [ 56.,  70.]])\n",
            "Epoch [150/250], Loss: nan ,tensor([[ 87., 134.,  58.],\n",
            "        [102.,  43.,  37.],\n",
            "        [ 73.,  67.,  43.],\n",
            "        [ 69.,  96.,  70.],\n",
            "        [ 69.,  96.,  70.]]) , tensor([[119., 133.],\n",
            "        [ 22.,  37.],\n",
            "        [ 56.,  70.],\n",
            "        [103., 119.],\n",
            "        [103., 119.]])\n",
            "Epoch [160/250], Loss: nan ,tensor([[ 73.,  67.,  43.],\n",
            "        [ 87., 134.,  58.],\n",
            "        [102.,  43.,  37.],\n",
            "        [ 69.,  96.,  70.],\n",
            "        [102.,  43.,  37.]]) , tensor([[ 56.,  70.],\n",
            "        [119., 133.],\n",
            "        [ 22.,  37.],\n",
            "        [103., 119.],\n",
            "        [ 22.,  37.]])\n",
            "Epoch [170/250], Loss: nan ,tensor([[102.,  43.,  37.],\n",
            "        [ 91.,  88.,  64.],\n",
            "        [ 69.,  96.,  70.],\n",
            "        [ 87., 134.,  58.],\n",
            "        [ 87., 134.,  58.]]) , tensor([[ 22.,  37.],\n",
            "        [ 81., 101.],\n",
            "        [103., 119.],\n",
            "        [119., 133.],\n",
            "        [119., 133.]])\n",
            "Epoch [180/250], Loss: nan ,tensor([[ 91.,  88.,  64.],\n",
            "        [ 87., 134.,  58.],\n",
            "        [102.,  43.,  37.],\n",
            "        [102.,  43.,  37.],\n",
            "        [ 69.,  96.,  70.]]) , tensor([[ 81., 101.],\n",
            "        [119., 133.],\n",
            "        [ 22.,  37.],\n",
            "        [ 22.,  37.],\n",
            "        [103., 119.]])\n",
            "Epoch [190/250], Loss: nan ,tensor([[ 87., 134.,  58.],\n",
            "        [ 73.,  67.,  43.],\n",
            "        [ 91.,  88.,  64.],\n",
            "        [ 91.,  88.,  64.],\n",
            "        [ 69.,  96.,  70.]]) , tensor([[119., 133.],\n",
            "        [ 56.,  70.],\n",
            "        [ 81., 101.],\n",
            "        [ 81., 101.],\n",
            "        [103., 119.]])\n",
            "Epoch [200/250], Loss: nan ,tensor([[ 87., 134.,  58.],\n",
            "        [ 69.,  96.,  70.],\n",
            "        [ 73.,  67.,  43.],\n",
            "        [ 73.,  67.,  43.],\n",
            "        [ 87., 134.,  58.]]) , tensor([[119., 133.],\n",
            "        [103., 119.],\n",
            "        [ 56.,  70.],\n",
            "        [ 56.,  70.],\n",
            "        [119., 133.]])\n",
            "Epoch [210/250], Loss: nan ,tensor([[ 91.,  88.,  64.],\n",
            "        [ 91.,  88.,  64.],\n",
            "        [102.,  43.,  37.],\n",
            "        [ 87., 134.,  58.],\n",
            "        [ 69.,  96.,  70.]]) , tensor([[ 81., 101.],\n",
            "        [ 81., 101.],\n",
            "        [ 22.,  37.],\n",
            "        [119., 133.],\n",
            "        [103., 119.]])\n",
            "Epoch [220/250], Loss: nan ,tensor([[ 69.,  96.,  70.],\n",
            "        [ 73.,  67.,  43.],\n",
            "        [102.,  43.,  37.],\n",
            "        [ 73.,  67.,  43.],\n",
            "        [ 91.,  88.,  64.]]) , tensor([[103., 119.],\n",
            "        [ 56.,  70.],\n",
            "        [ 22.,  37.],\n",
            "        [ 56.,  70.],\n",
            "        [ 81., 101.]])\n",
            "Epoch [230/250], Loss: nan ,tensor([[102.,  43.,  37.],\n",
            "        [ 91.,  88.,  64.],\n",
            "        [ 73.,  67.,  43.],\n",
            "        [ 87., 134.,  58.],\n",
            "        [ 91.,  88.,  64.]]) , tensor([[ 22.,  37.],\n",
            "        [ 81., 101.],\n",
            "        [ 56.,  70.],\n",
            "        [119., 133.],\n",
            "        [ 81., 101.]])\n",
            "Epoch [240/250], Loss: nan ,tensor([[ 69.,  96.,  70.],\n",
            "        [ 91.,  88.,  64.],\n",
            "        [ 73.,  67.,  43.],\n",
            "        [ 73.,  67.,  43.],\n",
            "        [102.,  43.,  37.]]) , tensor([[103., 119.],\n",
            "        [ 81., 101.],\n",
            "        [ 56.,  70.],\n",
            "        [ 56.,  70.],\n",
            "        [ 22.,  37.]])\n",
            "Epoch [250/250], Loss: nan ,tensor([[ 73.,  67.,  43.],\n",
            "        [ 69.,  96.,  70.],\n",
            "        [ 73.,  67.,  43.],\n",
            "        [102.,  43.,  37.],\n",
            "        [ 69.,  96.,  70.]]) , tensor([[ 56.,  70.],\n",
            "        [103., 119.],\n",
            "        [ 56.,  70.],\n",
            "        [ 22.,  37.],\n",
            "        [103., 119.]])\n",
            "tensor([[nan, nan],\n",
            "        [nan, nan],\n",
            "        [nan, nan],\n",
            "        [nan, nan],\n",
            "        [nan, nan],\n",
            "        [nan, nan],\n",
            "        [nan, nan],\n",
            "        [nan, nan],\n",
            "        [nan, nan],\n",
            "        [nan, nan],\n",
            "        [nan, nan],\n",
            "        [nan, nan],\n",
            "        [nan, nan],\n",
            "        [nan, nan],\n",
            "        [nan, nan]], grad_fn=<AddmmBackward0>)\n",
            "tensor([[ 56.,  70.],\n",
            "        [ 81., 101.],\n",
            "        [119., 133.],\n",
            "        [ 22.,  37.],\n",
            "        [103., 119.],\n",
            "        [ 56.,  70.],\n",
            "        [ 81., 101.],\n",
            "        [119., 133.],\n",
            "        [ 22.,  37.],\n",
            "        [103., 119.],\n",
            "        [ 56.,  70.],\n",
            "        [ 81., 101.],\n",
            "        [119., 133.],\n",
            "        [ 22.,  37.],\n",
            "        [103., 119.]])\n"
          ]
        }
      ]
    },
    {
      "cell_type": "code",
      "source": [
        "# 3\n",
        "model3 = nn.Linear(3,2)\n",
        "opt3 = torch.optim.SGD(model3.parameters(), lr=0.0000001)\n",
        "fit(250, model3, loss_fn, opt3, train_dl)\n",
        "preds = model3(inputs)\n",
        "print(preds)\n",
        "print(targets)\n",
        "from sklearn.metrics import mean_squared_error\n",
        "print(mean_squared_error(targets.detach().numpy(),preds.detach().numpy()))"
      ],
      "metadata": {
        "colab": {
          "base_uri": "https://localhost:8080/"
        },
        "id": "eKqEd0oUk5Vq",
        "outputId": "a1973b95-acd2-4cba-f9a4-13234d4f84c9"
      },
      "execution_count": 43,
      "outputs": [
        {
          "output_type": "stream",
          "name": "stdout",
          "text": [
            "Epoch [10/250], Loss: 4713.382 ,tensor([[ 91.,  88.,  64.],\n",
            "        [ 73.,  67.,  43.],\n",
            "        [102.,  43.,  37.],\n",
            "        [ 69.,  96.,  70.],\n",
            "        [102.,  43.,  37.]]) , tensor([[ 81., 101.],\n",
            "        [ 56.,  70.],\n",
            "        [ 22.,  37.],\n",
            "        [103., 119.],\n",
            "        [ 22.,  37.]])\n",
            "Epoch [20/250], Loss: 5956.536 ,tensor([[ 91.,  88.,  64.],\n",
            "        [ 87., 134.,  58.],\n",
            "        [ 73.,  67.,  43.],\n",
            "        [ 69.,  96.,  70.],\n",
            "        [ 87., 134.,  58.]]) , tensor([[ 81., 101.],\n",
            "        [119., 133.],\n",
            "        [ 56.,  70.],\n",
            "        [103., 119.],\n",
            "        [119., 133.]])\n",
            "Epoch [30/250], Loss: 4630.428 ,tensor([[ 69.,  96.,  70.],\n",
            "        [ 73.,  67.,  43.],\n",
            "        [ 73.,  67.,  43.],\n",
            "        [ 87., 134.,  58.],\n",
            "        [ 91.,  88.,  64.]]) , tensor([[103., 119.],\n",
            "        [ 56.,  70.],\n",
            "        [ 56.,  70.],\n",
            "        [119., 133.],\n",
            "        [ 81., 101.]])\n",
            "Epoch [40/250], Loss: 4816.847 ,tensor([[ 69.,  96.,  70.],\n",
            "        [ 91.,  88.,  64.],\n",
            "        [ 73.,  67.,  43.],\n",
            "        [ 87., 134.,  58.],\n",
            "        [ 69.,  96.,  70.]]) , tensor([[103., 119.],\n",
            "        [ 81., 101.],\n",
            "        [ 56.,  70.],\n",
            "        [119., 133.],\n",
            "        [103., 119.]])\n",
            "Epoch [50/250], Loss: 4371.222 ,tensor([[69., 96., 70.],\n",
            "        [91., 88., 64.],\n",
            "        [69., 96., 70.],\n",
            "        [69., 96., 70.],\n",
            "        [73., 67., 43.]]) , tensor([[103., 119.],\n",
            "        [ 81., 101.],\n",
            "        [103., 119.],\n",
            "        [103., 119.],\n",
            "        [ 56.,  70.]])\n",
            "Epoch [60/250], Loss: 2875.417 ,tensor([[ 73.,  67.,  43.],\n",
            "        [ 69.,  96.,  70.],\n",
            "        [ 73.,  67.,  43.],\n",
            "        [ 91.,  88.,  64.],\n",
            "        [102.,  43.,  37.]]) , tensor([[ 56.,  70.],\n",
            "        [103., 119.],\n",
            "        [ 56.,  70.],\n",
            "        [ 81., 101.],\n",
            "        [ 22.,  37.]])\n",
            "Epoch [70/250], Loss: 2567.18 ,tensor([[102.,  43.,  37.],\n",
            "        [102.,  43.,  37.],\n",
            "        [ 87., 134.,  58.],\n",
            "        [ 91.,  88.,  64.],\n",
            "        [ 73.,  67.,  43.]]) , tensor([[ 22.,  37.],\n",
            "        [ 22.,  37.],\n",
            "        [119., 133.],\n",
            "        [ 81., 101.],\n",
            "        [ 56.,  70.]])\n",
            "Epoch [80/250], Loss: 2392.591 ,tensor([[ 91.,  88.,  64.],\n",
            "        [102.,  43.,  37.],\n",
            "        [102.,  43.,  37.],\n",
            "        [102.,  43.,  37.],\n",
            "        [ 69.,  96.,  70.]]) , tensor([[ 81., 101.],\n",
            "        [ 22.,  37.],\n",
            "        [ 22.,  37.],\n",
            "        [ 22.,  37.],\n",
            "        [103., 119.]])\n",
            "Epoch [90/250], Loss: 2073.47 ,tensor([[ 91.,  88.,  64.],\n",
            "        [ 73.,  67.,  43.],\n",
            "        [ 87., 134.,  58.],\n",
            "        [102.,  43.,  37.],\n",
            "        [ 73.,  67.,  43.]]) , tensor([[ 81., 101.],\n",
            "        [ 56.,  70.],\n",
            "        [119., 133.],\n",
            "        [ 22.,  37.],\n",
            "        [ 56.,  70.]])\n",
            "Epoch [100/250], Loss: 2315.696 ,tensor([[ 87., 134.,  58.],\n",
            "        [ 87., 134.,  58.],\n",
            "        [ 73.,  67.,  43.],\n",
            "        [ 69.,  96.,  70.],\n",
            "        [ 73.,  67.,  43.]]) , tensor([[119., 133.],\n",
            "        [119., 133.],\n",
            "        [ 56.,  70.],\n",
            "        [103., 119.],\n",
            "        [ 56.,  70.]])\n",
            "Epoch [110/250], Loss: 2012.184 ,tensor([[ 87., 134.,  58.],\n",
            "        [102.,  43.,  37.],\n",
            "        [102.,  43.,  37.],\n",
            "        [ 91.,  88.,  64.],\n",
            "        [ 87., 134.,  58.]]) , tensor([[119., 133.],\n",
            "        [ 22.,  37.],\n",
            "        [ 22.,  37.],\n",
            "        [ 81., 101.],\n",
            "        [119., 133.]])\n",
            "Epoch [120/250], Loss: 2146.881 ,tensor([[102.,  43.,  37.],\n",
            "        [ 69.,  96.,  70.],\n",
            "        [ 69.,  96.,  70.],\n",
            "        [ 69.,  96.,  70.],\n",
            "        [102.,  43.,  37.]]) , tensor([[ 22.,  37.],\n",
            "        [103., 119.],\n",
            "        [103., 119.],\n",
            "        [103., 119.],\n",
            "        [ 22.,  37.]])\n",
            "Epoch [130/250], Loss: 1672.598 ,tensor([[ 73.,  67.,  43.],\n",
            "        [ 87., 134.,  58.],\n",
            "        [ 69.,  96.,  70.],\n",
            "        [ 91.,  88.,  64.],\n",
            "        [ 73.,  67.,  43.]]) , tensor([[ 56.,  70.],\n",
            "        [119., 133.],\n",
            "        [103., 119.],\n",
            "        [ 81., 101.],\n",
            "        [ 56.,  70.]])\n",
            "Epoch [140/250], Loss: 1834.187 ,tensor([[ 69.,  96.,  70.],\n",
            "        [ 87., 134.,  58.],\n",
            "        [ 73.,  67.,  43.],\n",
            "        [ 69.,  96.,  70.],\n",
            "        [ 91.,  88.,  64.]]) , tensor([[103., 119.],\n",
            "        [119., 133.],\n",
            "        [ 56.,  70.],\n",
            "        [103., 119.],\n",
            "        [ 81., 101.]])\n",
            "Epoch [150/250], Loss: 1312.019 ,tensor([[ 87., 134.,  58.],\n",
            "        [ 87., 134.,  58.],\n",
            "        [ 91.,  88.,  64.],\n",
            "        [ 73.,  67.,  43.],\n",
            "        [102.,  43.,  37.]]) , tensor([[119., 133.],\n",
            "        [119., 133.],\n",
            "        [ 81., 101.],\n",
            "        [ 56.,  70.],\n",
            "        [ 22.,  37.]])\n",
            "Epoch [160/250], Loss: 1406.853 ,tensor([[ 87., 134.,  58.],\n",
            "        [ 73.,  67.,  43.],\n",
            "        [ 91.,  88.,  64.],\n",
            "        [ 69.,  96.,  70.],\n",
            "        [ 91.,  88.,  64.]]) , tensor([[119., 133.],\n",
            "        [ 56.,  70.],\n",
            "        [ 81., 101.],\n",
            "        [103., 119.],\n",
            "        [ 81., 101.]])\n",
            "Epoch [170/250], Loss: 1073.736 ,tensor([[ 91.,  88.,  64.],\n",
            "        [ 87., 134.,  58.],\n",
            "        [ 87., 134.,  58.],\n",
            "        [ 73.,  67.,  43.],\n",
            "        [102.,  43.,  37.]]) , tensor([[ 81., 101.],\n",
            "        [119., 133.],\n",
            "        [119., 133.],\n",
            "        [ 56.,  70.],\n",
            "        [ 22.,  37.]])\n",
            "Epoch [180/250], Loss: 1334.894 ,tensor([[ 87., 134.,  58.],\n",
            "        [ 91.,  88.,  64.],\n",
            "        [ 69.,  96.,  70.],\n",
            "        [102.,  43.,  37.],\n",
            "        [ 69.,  96.,  70.]]) , tensor([[119., 133.],\n",
            "        [ 81., 101.],\n",
            "        [103., 119.],\n",
            "        [ 22.,  37.],\n",
            "        [103., 119.]])\n",
            "Epoch [190/250], Loss: 934.587 ,tensor([[102.,  43.,  37.],\n",
            "        [ 73.,  67.,  43.],\n",
            "        [ 69.,  96.,  70.],\n",
            "        [ 91.,  88.,  64.],\n",
            "        [102.,  43.,  37.]]) , tensor([[ 22.,  37.],\n",
            "        [ 56.,  70.],\n",
            "        [103., 119.],\n",
            "        [ 81., 101.],\n",
            "        [ 22.,  37.]])\n",
            "Epoch [200/250], Loss: 915.162 ,tensor([[ 69.,  96.,  70.],\n",
            "        [ 87., 134.,  58.],\n",
            "        [102.,  43.,  37.],\n",
            "        [ 91.,  88.,  64.],\n",
            "        [ 73.,  67.,  43.]]) , tensor([[103., 119.],\n",
            "        [119., 133.],\n",
            "        [ 22.,  37.],\n",
            "        [ 81., 101.],\n",
            "        [ 56.,  70.]])\n",
            "Epoch [210/250], Loss: 837.185 ,tensor([[ 73.,  67.,  43.],\n",
            "        [ 87., 134.,  58.],\n",
            "        [ 87., 134.,  58.],\n",
            "        [102.,  43.,  37.],\n",
            "        [ 69.,  96.,  70.]]) , tensor([[ 56.,  70.],\n",
            "        [119., 133.],\n",
            "        [119., 133.],\n",
            "        [ 22.,  37.],\n",
            "        [103., 119.]])\n",
            "Epoch [220/250], Loss: 708.786 ,tensor([[ 73.,  67.,  43.],\n",
            "        [ 91.,  88.,  64.],\n",
            "        [ 87., 134.,  58.],\n",
            "        [ 69.,  96.,  70.],\n",
            "        [ 73.,  67.,  43.]]) , tensor([[ 56.,  70.],\n",
            "        [ 81., 101.],\n",
            "        [119., 133.],\n",
            "        [103., 119.],\n",
            "        [ 56.,  70.]])\n",
            "Epoch [230/250], Loss: 639.471 ,tensor([[102.,  43.,  37.],\n",
            "        [ 91.,  88.,  64.],\n",
            "        [ 73.,  67.,  43.],\n",
            "        [ 69.,  96.,  70.],\n",
            "        [ 73.,  67.,  43.]]) , tensor([[ 22.,  37.],\n",
            "        [ 81., 101.],\n",
            "        [ 56.,  70.],\n",
            "        [103., 119.],\n",
            "        [ 56.,  70.]])\n",
            "Epoch [240/250], Loss: 657.101 ,tensor([[ 87., 134.,  58.],\n",
            "        [102.,  43.,  37.],\n",
            "        [ 73.,  67.,  43.],\n",
            "        [ 87., 134.,  58.],\n",
            "        [ 69.,  96.,  70.]]) , tensor([[119., 133.],\n",
            "        [ 22.,  37.],\n",
            "        [ 56.,  70.],\n",
            "        [119., 133.],\n",
            "        [103., 119.]])\n",
            "Epoch [250/250], Loss: 682.95 ,tensor([[102.,  43.,  37.],\n",
            "        [ 69.,  96.,  70.],\n",
            "        [ 91.,  88.,  64.],\n",
            "        [ 87., 134.,  58.],\n",
            "        [ 87., 134.,  58.]]) , tensor([[ 22.,  37.],\n",
            "        [103., 119.],\n",
            "        [ 81., 101.],\n",
            "        [119., 133.],\n",
            "        [119., 133.]])\n",
            "tensor([[ 60.3005,  48.7233],\n",
            "        [ 79.7483,  66.3102],\n",
            "        [100.5360, 105.2635],\n",
            "        [ 53.3784,  21.5319],\n",
            "        [ 80.2148,  78.4918],\n",
            "        [ 60.3005,  48.7233],\n",
            "        [ 79.7483,  66.3102],\n",
            "        [100.5360, 105.2635],\n",
            "        [ 53.3784,  21.5319],\n",
            "        [ 80.2148,  78.4918],\n",
            "        [ 60.3005,  48.7233],\n",
            "        [ 79.7483,  66.3102],\n",
            "        [100.5360, 105.2635],\n",
            "        [ 53.3784,  21.5319],\n",
            "        [ 80.2148,  78.4918]], grad_fn=<AddmmBackward0>)\n",
            "tensor([[ 56.,  70.],\n",
            "        [ 81., 101.],\n",
            "        [119., 133.],\n",
            "        [ 22.,  37.],\n",
            "        [103., 119.],\n",
            "        [ 56.,  70.],\n",
            "        [ 81., 101.],\n",
            "        [119., 133.],\n",
            "        [ 22.,  37.],\n",
            "        [103., 119.],\n",
            "        [ 56.,  70.],\n",
            "        [ 81., 101.],\n",
            "        [119., 133.],\n",
            "        [ 22.,  37.],\n",
            "        [103., 119.]])\n",
            "617.03235\n"
          ]
        }
      ]
    },
    {
      "cell_type": "code",
      "source": [
        "# 4\n",
        "preds = model(torch.FloatTensor([70,34,45]))\n",
        "preds"
      ],
      "metadata": {
        "colab": {
          "base_uri": "https://localhost:8080/"
        },
        "id": "S24Soe2-sbZ-",
        "outputId": "9bc8cfbc-967c-40fc-afda-00b739534207"
      },
      "execution_count": 44,
      "outputs": [
        {
          "output_type": "execute_result",
          "data": {
            "text/plain": [
              "tensor([31.7472, 46.5821], grad_fn=<AddBackward0>)"
            ]
          },
          "metadata": {},
          "execution_count": 44
        }
      ]
    }
  ]
}
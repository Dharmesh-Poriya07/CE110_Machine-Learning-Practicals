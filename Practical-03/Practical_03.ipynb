{
  "cells": [
    {
      "cell_type": "code",
      "execution_count": 1,
      "metadata": {
        "id": "I4dU9l4ro8yN"
      },
      "outputs": [],
      "source": [
        "# Step 1: Import necessary libraries.\n",
        "from sklearn import preprocessing\n",
        "from sklearn.naive_bayes import GaussianNB, MultinomialNB"
      ]
    },
    {
      "cell_type": "code",
      "execution_count": 2,
      "metadata": {
        "id": "IvHX7J6apFhb"
      },
      "outputs": [],
      "source": [
        "# Step 2: Prepare dataset.\n",
        "weather = ['Sunny', 'Sunny', 'Overcast', 'Rainy', 'Rainy','Rainy', 'Overcast','Sunny', 'Sunny', 'Rainy', 'Sunny', 'Overcast', 'Overcast', 'Rainy']\n",
        "temp = ['Hot','Hot','Hot','Mild','Cool','Cool','Cool','Mild','Cool','Mild','Mild','Mild','Hot','Mild']\n",
        "play=['No','No','Yes','Yes','Yes','No','Yes','No','Yes','Yes','Yes','Yes','Yes','No']"
      ]
    },
    {
      "cell_type": "code",
      "execution_count": 3,
      "metadata": {
        "colab": {
          "base_uri": "https://localhost:8080/"
        },
        "id": "Ci94B192pHJ9",
        "outputId": "dcf2b4c6-8586-44ec-c07b-034b68b82290"
      },
      "outputs": [
        {
          "output_type": "stream",
          "name": "stdout",
          "text": [
            "Weather: [2 2 0 1 1 1 0 2 2 1 2 0 0 1]\n",
            "Temp: [1 1 1 2 0 0 0 2 0 2 2 2 1 2]\n",
            "Play: [0 0 1 1 1 0 1 0 1 1 1 1 1 0]\n"
          ]
        }
      ],
      "source": [
        "# Step 3: Digitize the data set using encoding\n",
        "\n",
        "#creating labelEncoder\n",
        "le = preprocessing.LabelEncoder()\n",
        "\n",
        "# Converting string labels into numbers.\n",
        "weather_encoded=le.fit_transform(weather)\n",
        "temp_encoded=le.fit_transform(temp)\n",
        "label=le.fit_transform(play)\n",
        "print(\"Weather:\" ,weather_encoded)\n",
        "print(\"Temp:\",temp_encoded)\n",
        "print(\"Play:\",label)"
      ]
    },
    {
      "cell_type": "code",
      "execution_count": 4,
      "metadata": {
        "colab": {
          "base_uri": "https://localhost:8080/"
        },
        "id": "JEhyHu3SpIr5",
        "outputId": "9e25be05-3bc8-477f-fdbf-4e4bb6a3e8fc"
      },
      "outputs": [
        {
          "output_type": "stream",
          "name": "stdout",
          "text": [
            "Features: ((2, 1), (2, 1), (0, 1), (1, 2), (1, 0), (1, 0), (0, 0), (2, 2), (2, 0), (1, 2), (2, 2), (0, 2), (0, 1), (1, 2))\n"
          ]
        }
      ],
      "source": [
        "# Step 4: Merge different features to prepare dataset\n",
        "\n",
        "#Combinig weather and temp into single listof tuples\n",
        "features=tuple(zip(weather_encoded,temp_encoded))\n",
        "print(\"Features:\",features)\n"
      ]
    },
    {
      "cell_type": "code",
      "execution_count": 5,
      "metadata": {
        "colab": {
          "base_uri": "https://localhost:8080/"
        },
        "id": "AxZmjl12pK3j",
        "outputId": "c1244592-9bf3-42d0-e70b-5fc147aac7cf"
      },
      "outputs": [
        {
          "output_type": "execute_result",
          "data": {
            "text/plain": [
              "MultinomialNB()"
            ]
          },
          "metadata": {},
          "execution_count": 5
        }
      ],
      "source": [
        "#Create a Classifier\n",
        "model=MultinomialNB()\n",
        "# Train the model using the training sets\n",
        "model.fit(features,label)"
      ]
    },
    {
      "cell_type": "code",
      "execution_count": 6,
      "metadata": {
        "colab": {
          "base_uri": "https://localhost:8080/"
        },
        "id": "jzUTEFGrpMQ8",
        "outputId": "9246fb11-1863-4675-8030-b29eee5ec8ee"
      },
      "outputs": [
        {
          "output_type": "stream",
          "name": "stdout",
          "text": [
            "Predicted Value: [1]\n"
          ]
        }
      ],
      "source": [
        "# Step 6: Predict Output for new data\n",
        "\n",
        "predicted= model.predict([[2,2]]) # 0:Overcast, 2:Mild\n",
        "print(\"Predicted Value:\", predicted)"
      ]
    },
    {
      "cell_type": "markdown",
      "metadata": {
        "id": "6syvdWaVpQ-I"
      },
      "source": [
        "### **EXCERCISE**"
      ]
    },
    {
      "cell_type": "code",
      "execution_count": 7,
      "metadata": {
        "colab": {
          "base_uri": "https://localhost:8080/"
        },
        "id": "epeI09VKpRhU",
        "outputId": "a053c0d2-4a97-48f2-99c3-5701709278d8"
      },
      "outputs": [
        {
          "output_type": "stream",
          "name": "stdout",
          "text": [
            "Predicted Value: [1]\n"
          ]
        }
      ],
      "source": [
        "# (1) Will you play if the temperature is ‘Hot’ and weather is ‘overcast’?\n",
        "predicted= model.predict([[0,1]]) # 0:Overcast, 1:Hot\n",
        "print(\"Predicted Value:\", predicted)"
      ]
    },
    {
      "cell_type": "code",
      "execution_count": 8,
      "metadata": {
        "colab": {
          "base_uri": "https://localhost:8080/"
        },
        "id": "uclP3r8gpNmv",
        "outputId": "cf06a235-3310-4646-9b30-2703b2babd84"
      },
      "outputs": [
        {
          "output_type": "stream",
          "name": "stdout",
          "text": [
            "Predicted Value: [1]\n"
          ]
        }
      ],
      "source": [
        "# (2) Will you play if the temperature is ‘Mild’ and weather is ‘Sunny’?\n",
        "predicted= model.predict([[2,2]]) # 2:Sunny, 2:Mild\n",
        "print(\"Predicted Value:\", predicted)"
      ]
    },
    {
      "cell_type": "markdown",
      "metadata": {
        "id": "oRHi-bLcpfjV"
      },
      "source": [
        "# Task : 1 :- Try the algo on Dataset3 - OneHotEncoding of features and Train test Division 85%-15%\n",
        "\n",
        "### Questions: For Task - 1\n",
        "\n",
        "(1) What will be the value of Play, if Outlook is ’Rainy’, Temperature is ’Mild’, Humidity =’Nor-\n",
        "mal’, and Wind = ’False’?\n",
        "\n",
        "(2) What will be the value of Play, if Outlook is ’Sunny’, Temeprature is ’Cool’, Humidity =’High’,\n",
        "and Wind = ’True’?\n",
        "\n",
        "(3) Accuracy , precision and recall of both Models?"
      ]
    },
    {
      "cell_type": "code",
      "execution_count": 9,
      "metadata": {
        "id": "DplC-0Vzpa-3"
      },
      "outputs": [],
      "source": [
        "#Import scikit-learn dataset library\n",
        "from sklearn import datasets\n",
        "from sklearn.naive_bayes import GaussianNB\n",
        "import pandas as pd\n",
        "from sklearn import preprocessing"
      ]
    },
    {
      "cell_type": "code",
      "source": [
        "from google.colab import drive\n",
        "drive.mount('/content/drive')"
      ],
      "metadata": {
        "colab": {
          "base_uri": "https://localhost:8080/"
        },
        "id": "kK7lEUhyv39e",
        "outputId": "5bd1b3de-d15a-4cec-c1c6-13f08d19fabc"
      },
      "execution_count": 10,
      "outputs": [
        {
          "output_type": "stream",
          "name": "stdout",
          "text": [
            "Mounted at /content/drive\n"
          ]
        }
      ]
    },
    {
      "cell_type": "code",
      "execution_count": 11,
      "metadata": {
        "colab": {
          "base_uri": "https://localhost:8080/",
          "height": 488
        },
        "id": "4FxMm-lhpiDw",
        "outputId": "c56fbb6e-c95a-4211-e89e-5f95ffb341e6"
      },
      "outputs": [
        {
          "output_type": "execute_result",
          "data": {
            "text/plain": [
              "   Outlook Temp Wind  Humidity  Class\n",
              "0        R    H    F         1      0\n",
              "1        R    H    T         2      0\n",
              "2        O    H    F         1      1\n",
              "3        R    M    F         1      1\n",
              "4        S    C    F         1      1\n",
              "5        O    C    T         0      0\n",
              "6        O    C    T         1      1\n",
              "7        R    M    F         1      0\n",
              "8        O    C    F         0      1\n",
              "9        S    M    F         2      1\n",
              "10       R    C    T         2      0\n",
              "11       O    M    T         0      1\n",
              "12       O    H    F         1      1\n",
              "13       S    M    T         1      0"
            ],
            "text/html": [
              "\n",
              "  <div id=\"df-0668c67f-b799-4fad-b5f3-41e1a8029191\">\n",
              "    <div class=\"colab-df-container\">\n",
              "      <div>\n",
              "<style scoped>\n",
              "    .dataframe tbody tr th:only-of-type {\n",
              "        vertical-align: middle;\n",
              "    }\n",
              "\n",
              "    .dataframe tbody tr th {\n",
              "        vertical-align: top;\n",
              "    }\n",
              "\n",
              "    .dataframe thead th {\n",
              "        text-align: right;\n",
              "    }\n",
              "</style>\n",
              "<table border=\"1\" class=\"dataframe\">\n",
              "  <thead>\n",
              "    <tr style=\"text-align: right;\">\n",
              "      <th></th>\n",
              "      <th>Outlook</th>\n",
              "      <th>Temp</th>\n",
              "      <th>Wind</th>\n",
              "      <th>Humidity</th>\n",
              "      <th>Class</th>\n",
              "    </tr>\n",
              "  </thead>\n",
              "  <tbody>\n",
              "    <tr>\n",
              "      <th>0</th>\n",
              "      <td>R</td>\n",
              "      <td>H</td>\n",
              "      <td>F</td>\n",
              "      <td>1</td>\n",
              "      <td>0</td>\n",
              "    </tr>\n",
              "    <tr>\n",
              "      <th>1</th>\n",
              "      <td>R</td>\n",
              "      <td>H</td>\n",
              "      <td>T</td>\n",
              "      <td>2</td>\n",
              "      <td>0</td>\n",
              "    </tr>\n",
              "    <tr>\n",
              "      <th>2</th>\n",
              "      <td>O</td>\n",
              "      <td>H</td>\n",
              "      <td>F</td>\n",
              "      <td>1</td>\n",
              "      <td>1</td>\n",
              "    </tr>\n",
              "    <tr>\n",
              "      <th>3</th>\n",
              "      <td>R</td>\n",
              "      <td>M</td>\n",
              "      <td>F</td>\n",
              "      <td>1</td>\n",
              "      <td>1</td>\n",
              "    </tr>\n",
              "    <tr>\n",
              "      <th>4</th>\n",
              "      <td>S</td>\n",
              "      <td>C</td>\n",
              "      <td>F</td>\n",
              "      <td>1</td>\n",
              "      <td>1</td>\n",
              "    </tr>\n",
              "    <tr>\n",
              "      <th>5</th>\n",
              "      <td>O</td>\n",
              "      <td>C</td>\n",
              "      <td>T</td>\n",
              "      <td>0</td>\n",
              "      <td>0</td>\n",
              "    </tr>\n",
              "    <tr>\n",
              "      <th>6</th>\n",
              "      <td>O</td>\n",
              "      <td>C</td>\n",
              "      <td>T</td>\n",
              "      <td>1</td>\n",
              "      <td>1</td>\n",
              "    </tr>\n",
              "    <tr>\n",
              "      <th>7</th>\n",
              "      <td>R</td>\n",
              "      <td>M</td>\n",
              "      <td>F</td>\n",
              "      <td>1</td>\n",
              "      <td>0</td>\n",
              "    </tr>\n",
              "    <tr>\n",
              "      <th>8</th>\n",
              "      <td>O</td>\n",
              "      <td>C</td>\n",
              "      <td>F</td>\n",
              "      <td>0</td>\n",
              "      <td>1</td>\n",
              "    </tr>\n",
              "    <tr>\n",
              "      <th>9</th>\n",
              "      <td>S</td>\n",
              "      <td>M</td>\n",
              "      <td>F</td>\n",
              "      <td>2</td>\n",
              "      <td>1</td>\n",
              "    </tr>\n",
              "    <tr>\n",
              "      <th>10</th>\n",
              "      <td>R</td>\n",
              "      <td>C</td>\n",
              "      <td>T</td>\n",
              "      <td>2</td>\n",
              "      <td>0</td>\n",
              "    </tr>\n",
              "    <tr>\n",
              "      <th>11</th>\n",
              "      <td>O</td>\n",
              "      <td>M</td>\n",
              "      <td>T</td>\n",
              "      <td>0</td>\n",
              "      <td>1</td>\n",
              "    </tr>\n",
              "    <tr>\n",
              "      <th>12</th>\n",
              "      <td>O</td>\n",
              "      <td>H</td>\n",
              "      <td>F</td>\n",
              "      <td>1</td>\n",
              "      <td>1</td>\n",
              "    </tr>\n",
              "    <tr>\n",
              "      <th>13</th>\n",
              "      <td>S</td>\n",
              "      <td>M</td>\n",
              "      <td>T</td>\n",
              "      <td>1</td>\n",
              "      <td>0</td>\n",
              "    </tr>\n",
              "  </tbody>\n",
              "</table>\n",
              "</div>\n",
              "      <button class=\"colab-df-convert\" onclick=\"convertToInteractive('df-0668c67f-b799-4fad-b5f3-41e1a8029191')\"\n",
              "              title=\"Convert this dataframe to an interactive table.\"\n",
              "              style=\"display:none;\">\n",
              "        \n",
              "  <svg xmlns=\"http://www.w3.org/2000/svg\" height=\"24px\"viewBox=\"0 0 24 24\"\n",
              "       width=\"24px\">\n",
              "    <path d=\"M0 0h24v24H0V0z\" fill=\"none\"/>\n",
              "    <path d=\"M18.56 5.44l.94 2.06.94-2.06 2.06-.94-2.06-.94-.94-2.06-.94 2.06-2.06.94zm-11 1L8.5 8.5l.94-2.06 2.06-.94-2.06-.94L8.5 2.5l-.94 2.06-2.06.94zm10 10l.94 2.06.94-2.06 2.06-.94-2.06-.94-.94-2.06-.94 2.06-2.06.94z\"/><path d=\"M17.41 7.96l-1.37-1.37c-.4-.4-.92-.59-1.43-.59-.52 0-1.04.2-1.43.59L10.3 9.45l-7.72 7.72c-.78.78-.78 2.05 0 2.83L4 21.41c.39.39.9.59 1.41.59.51 0 1.02-.2 1.41-.59l7.78-7.78 2.81-2.81c.8-.78.8-2.07 0-2.86zM5.41 20L4 18.59l7.72-7.72 1.47 1.35L5.41 20z\"/>\n",
              "  </svg>\n",
              "      </button>\n",
              "      \n",
              "  <style>\n",
              "    .colab-df-container {\n",
              "      display:flex;\n",
              "      flex-wrap:wrap;\n",
              "      gap: 12px;\n",
              "    }\n",
              "\n",
              "    .colab-df-convert {\n",
              "      background-color: #E8F0FE;\n",
              "      border: none;\n",
              "      border-radius: 50%;\n",
              "      cursor: pointer;\n",
              "      display: none;\n",
              "      fill: #1967D2;\n",
              "      height: 32px;\n",
              "      padding: 0 0 0 0;\n",
              "      width: 32px;\n",
              "    }\n",
              "\n",
              "    .colab-df-convert:hover {\n",
              "      background-color: #E2EBFA;\n",
              "      box-shadow: 0px 1px 2px rgba(60, 64, 67, 0.3), 0px 1px 3px 1px rgba(60, 64, 67, 0.15);\n",
              "      fill: #174EA6;\n",
              "    }\n",
              "\n",
              "    [theme=dark] .colab-df-convert {\n",
              "      background-color: #3B4455;\n",
              "      fill: #D2E3FC;\n",
              "    }\n",
              "\n",
              "    [theme=dark] .colab-df-convert:hover {\n",
              "      background-color: #434B5C;\n",
              "      box-shadow: 0px 1px 3px 1px rgba(0, 0, 0, 0.15);\n",
              "      filter: drop-shadow(0px 1px 2px rgba(0, 0, 0, 0.3));\n",
              "      fill: #FFFFFF;\n",
              "    }\n",
              "  </style>\n",
              "\n",
              "      <script>\n",
              "        const buttonEl =\n",
              "          document.querySelector('#df-0668c67f-b799-4fad-b5f3-41e1a8029191 button.colab-df-convert');\n",
              "        buttonEl.style.display =\n",
              "          google.colab.kernel.accessAllowed ? 'block' : 'none';\n",
              "\n",
              "        async function convertToInteractive(key) {\n",
              "          const element = document.querySelector('#df-0668c67f-b799-4fad-b5f3-41e1a8029191');\n",
              "          const dataTable =\n",
              "            await google.colab.kernel.invokeFunction('convertToInteractive',\n",
              "                                                     [key], {});\n",
              "          if (!dataTable) return;\n",
              "\n",
              "          const docLinkHtml = 'Like what you see? Visit the ' +\n",
              "            '<a target=\"_blank\" href=https://colab.research.google.com/notebooks/data_table.ipynb>data table notebook</a>'\n",
              "            + ' to learn more about interactive tables.';\n",
              "          element.innerHTML = '';\n",
              "          dataTable['output_type'] = 'display_data';\n",
              "          await google.colab.output.renderOutput(dataTable, element);\n",
              "          const docLink = document.createElement('div');\n",
              "          docLink.innerHTML = docLinkHtml;\n",
              "          element.appendChild(docLink);\n",
              "        }\n",
              "      </script>\n",
              "    </div>\n",
              "  </div>\n",
              "  "
            ]
          },
          "metadata": {},
          "execution_count": 11
        }
      ],
      "source": [
        "datasets = pd.read_csv('/content/drive/MyDrive/Labs/Sem6_Labs/ML/Lab03/Dataset3.csv')\n",
        "datasets"
      ]
    },
    {
      "cell_type": "code",
      "execution_count": 12,
      "metadata": {
        "colab": {
          "base_uri": "https://localhost:8080/"
        },
        "id": "jUF-rNqQppMc",
        "outputId": "ca5cdb3c-d059-494f-8aae-108dc8096450"
      },
      "outputs": [
        {
          "output_type": "stream",
          "name": "stdout",
          "text": [
            "    Outlook_O  Outlook_R  Outlook_S  Temp_C  Temp_H  Temp_M  Wind_F  Wind_T\n",
            "0         0.0        1.0        0.0     0.0     1.0     0.0     1.0     0.0\n",
            "1         0.0        1.0        0.0     0.0     1.0     0.0     0.0     1.0\n",
            "2         1.0        0.0        0.0     0.0     1.0     0.0     1.0     0.0\n",
            "3         0.0        1.0        0.0     0.0     0.0     1.0     1.0     0.0\n",
            "4         0.0        0.0        1.0     1.0     0.0     0.0     1.0     0.0\n",
            "5         1.0        0.0        0.0     1.0     0.0     0.0     0.0     1.0\n",
            "6         1.0        0.0        0.0     1.0     0.0     0.0     0.0     1.0\n",
            "7         0.0        1.0        0.0     0.0     0.0     1.0     1.0     0.0\n",
            "8         1.0        0.0        0.0     1.0     0.0     0.0     1.0     0.0\n",
            "9         0.0        0.0        1.0     0.0     0.0     1.0     1.0     0.0\n",
            "10        0.0        1.0        0.0     1.0     0.0     0.0     0.0     1.0\n",
            "11        1.0        0.0        0.0     0.0     0.0     1.0     0.0     1.0\n",
            "12        1.0        0.0        0.0     0.0     1.0     0.0     1.0     0.0\n",
            "13        0.0        0.0        1.0     0.0     0.0     1.0     0.0     1.0\n",
            "    Humidity  Class  Outlook_O  Outlook_R  Outlook_S  Temp_C  Temp_H  Temp_M  \\\n",
            "0          1      0        0.0        1.0        0.0     0.0     1.0     0.0   \n",
            "1          2      0        0.0        1.0        0.0     0.0     1.0     0.0   \n",
            "2          1      1        1.0        0.0        0.0     0.0     1.0     0.0   \n",
            "3          1      1        0.0        1.0        0.0     0.0     0.0     1.0   \n",
            "4          1      1        0.0        0.0        1.0     1.0     0.0     0.0   \n",
            "5          0      0        1.0        0.0        0.0     1.0     0.0     0.0   \n",
            "6          1      1        1.0        0.0        0.0     1.0     0.0     0.0   \n",
            "7          1      0        0.0        1.0        0.0     0.0     0.0     1.0   \n",
            "8          0      1        1.0        0.0        0.0     1.0     0.0     0.0   \n",
            "9          2      1        0.0        0.0        1.0     0.0     0.0     1.0   \n",
            "10         2      0        0.0        1.0        0.0     1.0     0.0     0.0   \n",
            "11         0      1        1.0        0.0        0.0     0.0     0.0     1.0   \n",
            "12         1      1        1.0        0.0        0.0     0.0     1.0     0.0   \n",
            "13         1      0        0.0        0.0        1.0     0.0     0.0     1.0   \n",
            "\n",
            "    Wind_F  Wind_T  \n",
            "0      1.0     0.0  \n",
            "1      0.0     1.0  \n",
            "2      1.0     0.0  \n",
            "3      1.0     0.0  \n",
            "4      1.0     0.0  \n",
            "5      0.0     1.0  \n",
            "6      0.0     1.0  \n",
            "7      1.0     0.0  \n",
            "8      1.0     0.0  \n",
            "9      1.0     0.0  \n",
            "10     0.0     1.0  \n",
            "11     0.0     1.0  \n",
            "12     1.0     0.0  \n",
            "13     0.0     1.0  \n"
          ]
        }
      ],
      "source": [
        "from sklearn.preprocessing import OneHotEncoder\n",
        "\n",
        "le = preprocessing.OneHotEncoder()\n",
        "Out_train = datasets.select_dtypes('object')\n",
        "Temp_train = datasets.select_dtypes('object')\n",
        "Wind_train = datasets.select_dtypes('object')\n",
        "\n",
        "out_end = le.fit_transform(Out_train).toarray()\n",
        "Temp_end = le.fit_transform(Temp_train).toarray()\n",
        "wind_end = le.fit_transform(Wind_train).toarray()\n",
        "\n",
        "train = pd.DataFrame(out_end,columns=le.get_feature_names_out(Out_train.columns))\n",
        "# print(train)\n",
        "train = pd.DataFrame(out_end,columns=le.get_feature_names_out(Out_train.columns))\n",
        "train = pd.DataFrame(out_end,columns=le.get_feature_names_out(Out_train.columns))\n",
        "print(train)\n",
        "# print(datasets)\n",
        "# df = pd.merge(train,datasets)\n",
        "datasets = pd.DataFrame.join(datasets,train)\n",
        "# print(datasets)\n",
        "# datasets['Outlook'] = datasets['Outlook'].astype('category')\n",
        "# datasets['Temp'] = datasets['Outlook'].astype('category')\n",
        "# datasets['Wind'] = datasets['Outlook'].astype('category')\n",
        "\n",
        "# datasets['Outlook_new'] = datasets['Outlook'].cat.codes\n",
        "# datasets['Temp_new'] = datasets['Outlook'].cat.codes\n",
        "# datasets['Wind_new'] = datasets['Outlook'].cat.codes\n",
        "\n",
        "# enc_data = pd.DataFrame(le.fit_transform(datasets[['Outlook_new','Temp_new','Wind_new']]).toarray())\n",
        "# one_hot_encoded_data = pd.get_dummies(datasets, columns = ['Outlook','Temp','Wind'])\n",
        "datasets.drop(['Outlook', 'Temp','Wind'], axis=1, inplace=True)\n",
        "print(datasets)\n",
        "# datasets\n",
        "# new_df = datasets.join(enc_data)\n",
        "# one_hot_encoded_data\n"
      ]
    },
    {
      "cell_type": "code",
      "execution_count": 13,
      "metadata": {
        "colab": {
          "base_uri": "https://localhost:8080/"
        },
        "id": "JZJhU1oKprm0",
        "outputId": "3f31926e-985c-4a9c-b82e-2b58256dfa8d"
      },
      "outputs": [
        {
          "output_type": "execute_result",
          "data": {
            "text/plain": [
              "array([[1., 0., 0., 1., 0., 0., 1., 0., 1.],\n",
              "       [2., 1., 0., 1., 0., 0., 1., 0., 0.],\n",
              "       [1., 0., 1., 0., 0., 0., 1., 0., 1.],\n",
              "       [1., 0., 0., 1., 0., 0., 0., 1., 1.],\n",
              "       [1., 0., 0., 0., 1., 1., 0., 0., 1.],\n",
              "       [0., 1., 1., 0., 0., 1., 0., 0., 0.],\n",
              "       [1., 1., 1., 0., 0., 1., 0., 0., 0.],\n",
              "       [1., 0., 0., 1., 0., 0., 0., 1., 1.],\n",
              "       [0., 0., 1., 0., 0., 1., 0., 0., 1.],\n",
              "       [2., 0., 0., 0., 1., 0., 0., 1., 1.],\n",
              "       [2., 1., 0., 1., 0., 1., 0., 0., 0.],\n",
              "       [0., 1., 1., 0., 0., 0., 0., 1., 0.],\n",
              "       [1., 0., 1., 0., 0., 0., 1., 0., 1.],\n",
              "       [1., 1., 0., 0., 1., 0., 0., 1., 0.]])"
            ]
          },
          "metadata": {},
          "execution_count": 13
        }
      ],
      "source": [
        "features = datasets.iloc[:,0:9].values\n",
        "features[:,0] = datasets.iloc[:,0].values\n",
        "features[:,1] = datasets.iloc[:,2].values\n",
        "features[:,1] = datasets.iloc[:,3].values\n",
        "features[:,1] = datasets.iloc[:,4].values\n",
        "features[:,1] = datasets.iloc[:,5].values\n",
        "features[:,1] = datasets.iloc[:,6].values\n",
        "features[:,1] = datasets.iloc[:,7].values\n",
        "features[:,1] = datasets.iloc[:,8].values\n",
        "features[:,1] = datasets.iloc[:,9].values\n",
        "# features[:,1] = datasets.iloc[:,2].values\n",
        "features"
      ]
    },
    {
      "cell_type": "code",
      "execution_count": 14,
      "metadata": {
        "colab": {
          "base_uri": "https://localhost:8080/"
        },
        "id": "j_Be_3pVptmW",
        "outputId": "76b2e8a7-8751-4045-c74b-8c1e1a8e4629"
      },
      "outputs": [
        {
          "output_type": "execute_result",
          "data": {
            "text/plain": [
              "array([0, 0, 1, 1, 1, 0, 1, 0, 1, 1, 0, 1, 1, 0])"
            ]
          },
          "metadata": {},
          "execution_count": 14
        }
      ],
      "source": [
        "label = datasets.iloc[:,1].values\n",
        "label"
      ]
    },
    {
      "cell_type": "code",
      "execution_count": 21,
      "metadata": {
        "colab": {
          "base_uri": "https://localhost:8080/"
        },
        "id": "CnWPhwBDpuIJ",
        "outputId": "1f4a4141-7c9a-4cd2-9f56-a3a3bc666823"
      },
      "outputs": [
        {
          "output_type": "stream",
          "name": "stdout",
          "text": [
            "Traing data : \n",
            " [[2. 1. 0. 1. 0. 0. 1. 0. 0.]\n",
            " [0. 0. 1. 0. 0. 1. 0. 0. 1.]\n",
            " [1. 0. 1. 0. 0. 0. 1. 0. 1.]\n",
            " [1. 0. 1. 0. 0. 0. 1. 0. 1.]\n",
            " [1. 1. 1. 0. 0. 1. 0. 0. 0.]\n",
            " [0. 1. 1. 0. 0. 0. 0. 1. 0.]\n",
            " [2. 1. 0. 1. 0. 1. 0. 0. 0.]\n",
            " [1. 1. 0. 0. 1. 0. 0. 1. 0.]\n",
            " [2. 0. 0. 0. 1. 0. 0. 1. 1.]\n",
            " [1. 0. 0. 1. 0. 0. 0. 1. 1.]\n",
            " [1. 0. 0. 1. 0. 0. 1. 0. 1.]]\n",
            "\n",
            "Testing data : \n",
            " [[1. 0. 0. 1. 0. 0. 0. 1. 1.]\n",
            " [1. 0. 0. 0. 1. 1. 0. 0. 1.]\n",
            " [0. 1. 1. 0. 0. 1. 0. 0. 0.]]\n",
            "\n",
            "Target train : \n",
            " [0 1 1 1 1 1 0 0 1 1 0]\n",
            "\n",
            "Target test : \n",
            " [0 1 0]\n"
          ]
        }
      ],
      "source": [
        "#import the necessary module\n",
        "from sklearn.model_selection import train_test_split\n",
        "#split data set into train and test sets\n",
        "data_train, data_test, target_train, target_test = train_test_split(features,label, test_size = 0.15, random_state = 110)\n",
        "print(\"Traing data : \\n\",data_train)\n",
        "print(\"\\nTesting data : \\n\",data_test)\n",
        "print(\"\\nTarget train : \\n\",target_train)\n",
        "print(\"\\nTarget test : \\n\",target_test)"
      ]
    },
    {
      "cell_type": "code",
      "execution_count": 22,
      "metadata": {
        "colab": {
          "base_uri": "https://localhost:8080/"
        },
        "id": "UDuw7a70puDW",
        "outputId": "c0af40d9-3a6b-4880-ce6f-c826d9b6ffe4"
      },
      "outputs": [
        {
          "output_type": "execute_result",
          "data": {
            "text/plain": [
              "array([0, 0, 1])"
            ]
          },
          "metadata": {},
          "execution_count": 22
        }
      ],
      "source": [
        "import numpy as np\n",
        "gnb = GaussianNB()\n",
        "\n",
        "#Train the model using the training sets\n",
        "gnb.fit(data_train, target_train)\n",
        "\n",
        "#Predict the response for test dataset\n",
        "target_pred = gnb.predict(data_test)\n",
        "target_pred"
      ]
    },
    {
      "cell_type": "code",
      "execution_count": 17,
      "metadata": {
        "colab": {
          "base_uri": "https://localhost:8080/"
        },
        "id": "Q-md16popxR1",
        "outputId": "3bcfdc5a-8c89-4f95-b511-26fbb9da4600"
      },
      "outputs": [
        {
          "output_type": "execute_result",
          "data": {
            "text/plain": [
              "array([1])"
            ]
          },
          "metadata": {},
          "execution_count": 17
        }
      ],
      "source": [
        "# (1) What will be the value of Play, if Outlook is ’Rainy’, Temperature is ’Mild’, Humidity =’Nor-\n",
        "# mal’, and Wind = ’False’?\n",
        "predicted = gnb.predict([[1,0,1,0,0,0,1,1,0]])\n",
        "predicted"
      ]
    },
    {
      "cell_type": "code",
      "execution_count": 23,
      "metadata": {
        "colab": {
          "base_uri": "https://localhost:8080/"
        },
        "id": "lwKdZMz1pybH",
        "outputId": "f65c0ba8-fbe8-4bae-8f74-a209d092a37f"
      },
      "outputs": [
        {
          "output_type": "execute_result",
          "data": {
            "text/plain": [
              "array([0])"
            ]
          },
          "metadata": {},
          "execution_count": 23
        }
      ],
      "source": [
        "# (2) What will be the value of Play, if Outlook is ’Sunny’, Temeprature is ’Cool’, Humidity =’High’,\n",
        "# and Wind = ’True’?\n",
        "\n",
        "predicted = gnb.predict([[2,0,0,1,1,0,0,0,1]])\n",
        "predicted"
      ]
    },
    {
      "cell_type": "code",
      "execution_count": 24,
      "metadata": {
        "colab": {
          "base_uri": "https://localhost:8080/"
        },
        "id": "vYc7RlaLpyXw",
        "outputId": "858591c2-1f96-4036-af6b-77d89aed11cf"
      },
      "outputs": [
        {
          "output_type": "stream",
          "name": "stdout",
          "text": [
            "Accuracy: 0.3333333333333333\n"
          ]
        }
      ],
      "source": [
        "# (3) Accuracy , precision and recall of both Models?\n",
        "\n",
        "#Import scikit-learn metrics module for accuracy calculation\n",
        "from sklearn import metrics\n",
        "\n",
        "# Model Accuracy, how often is the classifier correct?\n",
        "print(\"Accuracy:\",metrics.accuracy_score(target_test, target_pred))"
      ]
    },
    {
      "cell_type": "code",
      "execution_count": 25,
      "metadata": {
        "colab": {
          "base_uri": "https://localhost:8080/"
        },
        "id": "S47Z3rDnpyVQ",
        "outputId": "441f46f8-9d98-4fe9-e1d5-533282da0d68"
      },
      "outputs": [
        {
          "output_type": "execute_result",
          "data": {
            "text/plain": [
              "array([[1, 1],\n",
              "       [1, 0]])"
            ]
          },
          "metadata": {},
          "execution_count": 25
        }
      ],
      "source": [
        "#Import confusion_matrix from scikit-learn metrics module for confusion_matrix\n",
        "from sklearn.metrics import confusion_matrix\n",
        "confusion_matrix(target_test, target_pred)"
      ]
    },
    {
      "cell_type": "code",
      "execution_count": 26,
      "metadata": {
        "colab": {
          "base_uri": "https://localhost:8080/"
        },
        "id": "BvpMFvGlpyS4",
        "outputId": "4ad328e8-1671-427e-df34-fc30ac1bf33d"
      },
      "outputs": [
        {
          "output_type": "stream",
          "name": "stdout",
          "text": [
            "precision: [0.5 0. ]\n",
            "recall: [0.5 0. ]\n"
          ]
        }
      ],
      "source": [
        "from sklearn.metrics import precision_score\n",
        "from sklearn.metrics import recall_score\n",
        "precision = precision_score(target_test, target_pred, average=None)\n",
        "recall = recall_score(target_test, target_pred, average=None)\n",
        "print('precision: {}'.format(precision))\n",
        "print('recall: {}'.format(recall))"
      ]
    },
    {
      "cell_type": "markdown",
      "metadata": {
        "id": "urSTbqSuq454"
      },
      "source": [
        "# Task 2: Try the algo on Wine datasets - OneHotEncoding of features:and Train test Division 85%-15%"
      ]
    },
    {
      "cell_type": "code",
      "execution_count": 27,
      "metadata": {
        "id": "HlikhfICpyQH"
      },
      "outputs": [],
      "source": [
        "from sklearn import datasets\n",
        "\n",
        "wine = datasets.load_wine()\n",
        "X = wine.data\n",
        "y= wine.target"
      ]
    },
    {
      "cell_type": "code",
      "execution_count": 28,
      "metadata": {
        "colab": {
          "base_uri": "https://localhost:8080/"
        },
        "id": "01k9XomqpyNl",
        "outputId": "235b7fc5-ff7d-4258-8ac3-8c0b25e36a0b"
      },
      "outputs": [
        {
          "output_type": "stream",
          "name": "stdout",
          "text": [
            "Feature names: ['alcohol', 'malic_acid', 'ash', 'alcalinity_of_ash', 'magnesium', 'total_phenols', 'flavanoids', 'nonflavanoid_phenols', 'proanthocyanins', 'color_intensity', 'hue', 'od280/od315_of_diluted_wines', 'proline']\n",
            "\n",
            "Target names: ['class_0' 'class_1' 'class_2']\n",
            "\n",
            "\n",
            "First 10 rows of X:\n",
            " [[1.423e+01 1.710e+00 2.430e+00 1.560e+01 1.270e+02 2.800e+00 3.060e+00\n",
            "  2.800e-01 2.290e+00 5.640e+00 1.040e+00 3.920e+00 1.065e+03]\n",
            " [1.320e+01 1.780e+00 2.140e+00 1.120e+01 1.000e+02 2.650e+00 2.760e+00\n",
            "  2.600e-01 1.280e+00 4.380e+00 1.050e+00 3.400e+00 1.050e+03]\n",
            " [1.316e+01 2.360e+00 2.670e+00 1.860e+01 1.010e+02 2.800e+00 3.240e+00\n",
            "  3.000e-01 2.810e+00 5.680e+00 1.030e+00 3.170e+00 1.185e+03]\n",
            " [1.437e+01 1.950e+00 2.500e+00 1.680e+01 1.130e+02 3.850e+00 3.490e+00\n",
            "  2.400e-01 2.180e+00 7.800e+00 8.600e-01 3.450e+00 1.480e+03]\n",
            " [1.324e+01 2.590e+00 2.870e+00 2.100e+01 1.180e+02 2.800e+00 2.690e+00\n",
            "  3.900e-01 1.820e+00 4.320e+00 1.040e+00 2.930e+00 7.350e+02]\n",
            " [1.420e+01 1.760e+00 2.450e+00 1.520e+01 1.120e+02 3.270e+00 3.390e+00\n",
            "  3.400e-01 1.970e+00 6.750e+00 1.050e+00 2.850e+00 1.450e+03]\n",
            " [1.439e+01 1.870e+00 2.450e+00 1.460e+01 9.600e+01 2.500e+00 2.520e+00\n",
            "  3.000e-01 1.980e+00 5.250e+00 1.020e+00 3.580e+00 1.290e+03]\n",
            " [1.406e+01 2.150e+00 2.610e+00 1.760e+01 1.210e+02 2.600e+00 2.510e+00\n",
            "  3.100e-01 1.250e+00 5.050e+00 1.060e+00 3.580e+00 1.295e+03]\n",
            " [1.483e+01 1.640e+00 2.170e+00 1.400e+01 9.700e+01 2.800e+00 2.980e+00\n",
            "  2.900e-01 1.980e+00 5.200e+00 1.080e+00 2.850e+00 1.045e+03]\n",
            " [1.386e+01 1.350e+00 2.270e+00 1.600e+01 9.800e+01 2.980e+00 3.150e+00\n",
            "  2.200e-01 1.850e+00 7.220e+00 1.010e+00 3.550e+00 1.045e+03]]\n"
          ]
        }
      ],
      "source": [
        "feature_names = wine.feature_names\n",
        "target_names = wine.target_names\n",
        "print(\"Feature names:\", feature_names)\n",
        "print()\n",
        "print(\"Target names:\", target_names)\n",
        "print()\n",
        "print(\"\\nFirst 10 rows of X:\\n\", X[:10])"
      ]
    },
    {
      "cell_type": "code",
      "execution_count": 29,
      "metadata": {
        "id": "ZaRpZtyDpyKo"
      },
      "outputs": [],
      "source": [
        "#import the necessary module\n",
        "from sklearn.model_selection import train_test_split\n",
        "\n",
        "#split data set into train and test sets\n",
        "data_train, data_test, target_train, target_test = train_test_split(X,y, test_size = 0.34, random_state = 114)"
      ]
    },
    {
      "cell_type": "code",
      "execution_count": 30,
      "metadata": {
        "colab": {
          "base_uri": "https://localhost:8080/"
        },
        "id": "uUcO4G1wpyHi",
        "outputId": "9b684495-9ca9-4fc4-d329-c565b614f4d0"
      },
      "outputs": [
        {
          "output_type": "execute_result",
          "data": {
            "text/plain": [
              "array([1, 2, 0, 2, 1, 2, 1, 2, 1, 0, 2, 0, 2, 0, 0, 2, 0, 1, 2, 0, 1, 1,\n",
              "       1, 2, 2, 1, 2, 1, 2, 0, 0, 1, 1, 2, 0, 0, 1, 0, 1, 0, 2, 0, 1, 1,\n",
              "       0, 1, 0, 2, 1, 1, 1, 1, 0, 1, 2, 0, 0, 1, 0, 1, 0])"
            ]
          },
          "metadata": {},
          "execution_count": 30
        }
      ],
      "source": [
        "import numpy as np\n",
        "gnb = GaussianNB()\n",
        "\n",
        "#Train the model using the training sets\n",
        "gnb.fit(data_train, target_train)\n",
        "\n",
        "#Predict the response for test dataset\n",
        "target_pred = gnb.predict(data_test)\n",
        "target_pred"
      ]
    },
    {
      "cell_type": "code",
      "execution_count": 31,
      "metadata": {
        "colab": {
          "base_uri": "https://localhost:8080/"
        },
        "id": "1L2dTBkHpyFJ",
        "outputId": "8f6cfde5-62d8-45ad-c8b7-05b0b9dccb4c"
      },
      "outputs": [
        {
          "output_type": "stream",
          "name": "stdout",
          "text": [
            "Accuracy: 0.9508196721311475\n"
          ]
        }
      ],
      "source": [
        "#Import scikit-learn metrics module for accuracy calculation\n",
        "from sklearn import metrics\n",
        "\n",
        "# Model Accuracy, how often is the classifier correct?\n",
        "print(\"Accuracy:\",metrics.accuracy_score(target_test, target_pred))"
      ]
    },
    {
      "cell_type": "code",
      "execution_count": 32,
      "metadata": {
        "colab": {
          "base_uri": "https://localhost:8080/"
        },
        "id": "awbZlUfhpyCC",
        "outputId": "b378d5fc-53bc-4ee0-ddab-85acf2892f9c"
      },
      "outputs": [
        {
          "output_type": "execute_result",
          "data": {
            "text/plain": [
              "array([[21,  1,  0],\n",
              "       [ 0, 23,  2],\n",
              "       [ 0,  0, 14]])"
            ]
          },
          "metadata": {},
          "execution_count": 32
        }
      ],
      "source": [
        "#Import confusion_matrix from scikit-learn metrics module for confusion_matrix\n",
        "from sklearn.metrics import confusion_matrix\n",
        "confusion_matrix(target_test, target_pred)"
      ]
    },
    {
      "cell_type": "code",
      "execution_count": 33,
      "metadata": {
        "colab": {
          "base_uri": "https://localhost:8080/"
        },
        "id": "CatcGNzVpx_c",
        "outputId": "8e570777-4ec5-4c94-95e6-6bca0a6318fa"
      },
      "outputs": [
        {
          "output_type": "stream",
          "name": "stdout",
          "text": [
            "precision: [1.         0.95833333 0.875     ]\n",
            "recall: [0.95454545 0.92       1.        ]\n"
          ]
        }
      ],
      "source": [
        "from sklearn.metrics import precision_score\n",
        "from sklearn.metrics import recall_score\n",
        "precision = precision_score(target_test, target_pred, average=None)\n",
        "recall = recall_score(target_test, target_pred, average=None)\n",
        "print('precision: {}'.format(precision))\n",
        "print('recall: {}'.format(recall))"
      ]
    }
  ],
  "metadata": {
    "colab": {
      "provenance": []
    },
    "kernelspec": {
      "display_name": "Python 3",
      "language": "python",
      "name": "python3"
    },
    "language_info": {
      "name": "python",
      "version": "3.8.0 (tags/v3.8.0:fa919fd, Oct 14 2019, 19:37:50) [MSC v.1916 64 bit (AMD64)]"
    },
    "vscode": {
      "interpreter": {
        "hash": "e0144baad0ecee903f108a3e46e51ceadd7da3fc904cfa79747d813b61464b4e"
      }
    }
  },
  "nbformat": 4,
  "nbformat_minor": 0
}